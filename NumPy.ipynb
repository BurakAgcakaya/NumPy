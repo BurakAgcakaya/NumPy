{
  "nbformat": 4,
  "nbformat_minor": 0,
  "metadata": {
    "colab": {
      "name": "NumPy.ipynb",
      "provenance": [],
      "collapsed_sections": [],
      "authorship_tag": "ABX9TyPyLhMvCy7K+oWkP5MmPKDf",
      "include_colab_link": true
    },
    "kernelspec": {
      "name": "python3",
      "display_name": "Python 3"
    },
    "language_info": {
      "name": "python"
    }
  },
  "cells": [
    {
      "cell_type": "markdown",
      "metadata": {
        "id": "view-in-github",
        "colab_type": "text"
      },
      "source": [
        "<a href=\"https://colab.research.google.com/github/BurakAgcakaya/NumPy/blob/main/NumPy.ipynb\" target=\"_parent\"><img src=\"https://colab.research.google.com/assets/colab-badge.svg\" alt=\"Open In Colab\"/></a>"
      ]
    },
    {
      "cell_type": "code",
      "metadata": {
        "id": "77MugygjxCh4"
      },
      "source": [
        "import numpy as np"
      ],
      "execution_count": null,
      "outputs": []
    },
    {
      "cell_type": "code",
      "metadata": {
        "colab": {
          "base_uri": "https://localhost:8080/"
        },
        "id": "MhJA-xP1xCkP",
        "outputId": "f5318e21-2914-418b-ba80-40f65725ecc1"
      },
      "source": [
        "a = np.array([1,2,3,4])\n",
        "b = np.array([5,6,7,8])\n",
        "\n",
        "a+b"
      ],
      "execution_count": null,
      "outputs": [
        {
          "output_type": "execute_result",
          "data": {
            "text/plain": [
              "array([ 6,  8, 10, 12])"
            ]
          },
          "metadata": {},
          "execution_count": 20
        }
      ]
    },
    {
      "cell_type": "markdown",
      "metadata": {
        "id": "P6mGFH2x5j_a"
      },
      "source": [
        ""
      ]
    },
    {
      "cell_type": "code",
      "metadata": {
        "colab": {
          "base_uri": "https://localhost:8080/"
        },
        "id": "K1RfzAGPxCmg",
        "outputId": "5bcdbb8b-b3c2-47bb-fbcb-b8e347b2975c"
      },
      "source": [
        "a.shape"
      ],
      "execution_count": null,
      "outputs": [
        {
          "output_type": "execute_result",
          "data": {
            "text/plain": [
              "(4,)"
            ]
          },
          "metadata": {},
          "execution_count": 21
        }
      ]
    },
    {
      "cell_type": "code",
      "metadata": {
        "colab": {
          "base_uri": "https://localhost:8080/"
        },
        "id": "pOsAlFW7xCrJ",
        "outputId": "11c5f35d-106b-4c4c-9bc9-e02efadda1b1"
      },
      "source": [
        "a.size"
      ],
      "execution_count": null,
      "outputs": [
        {
          "output_type": "execute_result",
          "data": {
            "text/plain": [
              "4"
            ]
          },
          "metadata": {},
          "execution_count": 22
        }
      ]
    },
    {
      "cell_type": "code",
      "metadata": {
        "colab": {
          "base_uri": "https://localhost:8080/"
        },
        "id": "5x5FpW_LxCtp",
        "outputId": "83e944f0-342b-4f59-f268-097c8aee1e1e"
      },
      "source": [
        "a.dtype"
      ],
      "execution_count": null,
      "outputs": [
        {
          "output_type": "execute_result",
          "data": {
            "text/plain": [
              "dtype('int64')"
            ]
          },
          "metadata": {},
          "execution_count": 23
        }
      ]
    },
    {
      "cell_type": "code",
      "metadata": {
        "colab": {
          "base_uri": "https://localhost:8080/"
        },
        "id": "vsk6gyXHxCv7",
        "outputId": "ed01ba4c-aa0f-4a97-b390-a54b5bcd53b9"
      },
      "source": [
        "a.itemsize"
      ],
      "execution_count": null,
      "outputs": [
        {
          "output_type": "execute_result",
          "data": {
            "text/plain": [
              "8"
            ]
          },
          "metadata": {},
          "execution_count": 24
        }
      ]
    },
    {
      "cell_type": "code",
      "metadata": {
        "id": "cFjreleUxCyR"
      },
      "source": [
        "a1 = np.array([[1,2,3,4], [1,2,3,4],[1,2,3,4]])\n",
        "b1 = np.array([[5,6,7,8], [5,6,7,8], [5,6,7,8]])"
      ],
      "execution_count": null,
      "outputs": []
    },
    {
      "cell_type": "code",
      "metadata": {
        "colab": {
          "base_uri": "https://localhost:8080/"
        },
        "id": "oi8jkKxIy3en",
        "outputId": "63b84ec7-c7ae-4def-96ac-c1629f25ecfc"
      },
      "source": [
        "b1"
      ],
      "execution_count": null,
      "outputs": [
        {
          "output_type": "execute_result",
          "data": {
            "text/plain": [
              "array([[5, 6, 7, 8],\n",
              "       [5, 6, 7, 8],\n",
              "       [5, 6, 7, 8]])"
            ]
          },
          "metadata": {},
          "execution_count": 28
        }
      ]
    },
    {
      "cell_type": "code",
      "metadata": {
        "colab": {
          "base_uri": "https://localhost:8080/"
        },
        "id": "9YqWQNJVxC0o",
        "outputId": "11246757-1fe1-4e51-9382-2bde4bd20c72"
      },
      "source": [
        "a1.shape"
      ],
      "execution_count": null,
      "outputs": [
        {
          "output_type": "execute_result",
          "data": {
            "text/plain": [
              "(3, 4)"
            ]
          },
          "metadata": {},
          "execution_count": 26
        }
      ]
    },
    {
      "cell_type": "code",
      "metadata": {
        "colab": {
          "base_uri": "https://localhost:8080/"
        },
        "id": "qTbji6D2xC26",
        "outputId": "394d80ac-5f9e-489a-e318-ce0ce13de54e"
      },
      "source": [
        "a1.itemsize"
      ],
      "execution_count": null,
      "outputs": [
        {
          "output_type": "execute_result",
          "data": {
            "text/plain": [
              "8"
            ]
          },
          "metadata": {},
          "execution_count": 27
        }
      ]
    },
    {
      "cell_type": "code",
      "metadata": {
        "colab": {
          "base_uri": "https://localhost:8080/"
        },
        "id": "DZKz2ir_xC5A",
        "outputId": "3afb3ec6-27f9-49e8-90e7-fba54cf98481"
      },
      "source": [
        "a1*b1"
      ],
      "execution_count": null,
      "outputs": [
        {
          "output_type": "execute_result",
          "data": {
            "text/plain": [
              "array([[ 5, 12, 21, 32],\n",
              "       [ 5, 12, 21, 32],\n",
              "       [ 5, 12, 21, 32]])"
            ]
          },
          "metadata": {},
          "execution_count": 29
        }
      ]
    },
    {
      "cell_type": "code",
      "metadata": {
        "id": "BMWVYdNqxC7U"
      },
      "source": [
        "a3 = np.array([[[1,2,3,4], [1,2,3,4],[2,3,4,5]], [[1,2,3,4], [1,2,3,4],[2,2,3,5]]])"
      ],
      "execution_count": null,
      "outputs": []
    },
    {
      "cell_type": "code",
      "metadata": {
        "colab": {
          "base_uri": "https://localhost:8080/"
        },
        "id": "ThH9YJPvxC9o",
        "outputId": "07ac2bd0-2650-4555-f653-f1b85c06f5e4"
      },
      "source": [
        "a3"
      ],
      "execution_count": null,
      "outputs": [
        {
          "output_type": "execute_result",
          "data": {
            "text/plain": [
              "array([[[1, 2, 3, 4],\n",
              "        [1, 2, 3, 4],\n",
              "        [2, 3, 4, 5]],\n",
              "\n",
              "       [[1, 2, 3, 4],\n",
              "        [1, 2, 3, 4],\n",
              "        [2, 2, 3, 5]]])"
            ]
          },
          "metadata": {},
          "execution_count": 37
        }
      ]
    },
    {
      "cell_type": "code",
      "metadata": {
        "colab": {
          "base_uri": "https://localhost:8080/"
        },
        "id": "vgV1lCwLxC_y",
        "outputId": "95bb1dfb-11ca-44a2-f304-a1a8384382e9"
      },
      "source": [
        "a3.shape"
      ],
      "execution_count": null,
      "outputs": [
        {
          "output_type": "execute_result",
          "data": {
            "text/plain": [
              "(2, 3, 4)"
            ]
          },
          "metadata": {},
          "execution_count": 40
        }
      ]
    },
    {
      "cell_type": "code",
      "metadata": {
        "colab": {
          "base_uri": "https://localhost:8080/"
        },
        "id": "ubYXeB-jxDCJ",
        "outputId": "9fd832dc-5135-4082-80cc-d2738f83c8df"
      },
      "source": [
        "np.arange(-4, 6, 0.5)"
      ],
      "execution_count": null,
      "outputs": [
        {
          "output_type": "execute_result",
          "data": {
            "text/plain": [
              "array([-4. , -3.5, -3. , -2.5, -2. , -1.5, -1. , -0.5,  0. ,  0.5,  1. ,\n",
              "        1.5,  2. ,  2.5,  3. ,  3.5,  4. ,  4.5,  5. ,  5.5])"
            ]
          },
          "metadata": {},
          "execution_count": 49
        }
      ]
    },
    {
      "cell_type": "code",
      "metadata": {
        "id": "xgq7gRD9z54V"
      },
      "source": [
        "my_list = [1, 3.2,True,\"Ahmet\",5]"
      ],
      "execution_count": null,
      "outputs": []
    },
    {
      "cell_type": "code",
      "metadata": {
        "colab": {
          "base_uri": "https://localhost:8080/"
        },
        "id": "7G02LZxVz567",
        "outputId": "917a15cf-5ac8-4c78-cd3d-fa5f221df8bb"
      },
      "source": [
        "type(my_list)"
      ],
      "execution_count": null,
      "outputs": [
        {
          "output_type": "execute_result",
          "data": {
            "text/plain": [
              "list"
            ]
          },
          "metadata": {},
          "execution_count": 47
        }
      ]
    },
    {
      "cell_type": "code",
      "metadata": {
        "colab": {
          "base_uri": "https://localhost:8080/"
        },
        "id": "gOVjrIJMz59W",
        "outputId": "b7272bcb-2fe2-44ea-dda1-1ae9ee41be2d"
      },
      "source": [
        "my_array_list = np.array(my_list)\n",
        "my_array = np.array([6,7,8,9,0])\n",
        "my_array"
      ],
      "execution_count": null,
      "outputs": [
        {
          "output_type": "execute_result",
          "data": {
            "text/plain": [
              "array([6, 7, 8, 9, 0])"
            ]
          },
          "metadata": {},
          "execution_count": 48
        }
      ]
    },
    {
      "cell_type": "code",
      "metadata": {
        "colab": {
          "base_uri": "https://localhost:8080/"
        },
        "id": "Jv_t1XhYz6AK",
        "outputId": "6b5f2d53-0722-460f-e2b6-4ff7811408a1"
      },
      "source": [
        "np.linspace(1,10,3)"
      ],
      "execution_count": null,
      "outputs": [
        {
          "output_type": "execute_result",
          "data": {
            "text/plain": [
              "array([ 1. ,  5.5, 10. ])"
            ]
          },
          "metadata": {},
          "execution_count": 51
        }
      ]
    },
    {
      "cell_type": "code",
      "metadata": {
        "colab": {
          "base_uri": "https://localhost:8080/"
        },
        "id": "qUdCbWRZz6Ce",
        "outputId": "bf11afb8-f3e0-4d17-a3d9-88060e03f8b0"
      },
      "source": [
        "np.linspace(1, 10,25,dtype=str)"
      ],
      "execution_count": null,
      "outputs": [
        {
          "output_type": "execute_result",
          "data": {
            "text/plain": [
              "array(['1.0', '1.375', '1.75', '2.125', '2.5', '2.875', '3.25', '3.625',\n",
              "       '4.0', '4.375', '4.75', '5.125', '5.5', '5.875', '6.25', '6.625',\n",
              "       '7.0', '7.375', '7.75', '8.125', '8.5', '8.875', '9.25', '9.625',\n",
              "       '10.0'], dtype='<U32')"
            ]
          },
          "metadata": {},
          "execution_count": 54
        }
      ]
    },
    {
      "cell_type": "code",
      "metadata": {
        "colab": {
          "base_uri": "https://localhost:8080/"
        },
        "id": "zXIDW798z6Ec",
        "outputId": "7aec15d1-7e38-43d9-85cd-eb7bc276e47f"
      },
      "source": [
        "np.zeros((5,3), dtype=str)"
      ],
      "execution_count": null,
      "outputs": [
        {
          "output_type": "execute_result",
          "data": {
            "text/plain": [
              "array([['', '', ''],\n",
              "       ['', '', ''],\n",
              "       ['', '', ''],\n",
              "       ['', '', ''],\n",
              "       ['', '', '']], dtype='<U1')"
            ]
          },
          "metadata": {},
          "execution_count": 55
        }
      ]
    },
    {
      "cell_type": "code",
      "metadata": {
        "colab": {
          "base_uri": "https://localhost:8080/"
        },
        "id": "U08z_U3Oz6GW",
        "outputId": "5e8f9ddd-57b9-454d-e82a-7040fc464239"
      },
      "source": [
        "np.ones((2,4))"
      ],
      "execution_count": null,
      "outputs": [
        {
          "output_type": "execute_result",
          "data": {
            "text/plain": [
              "array([[1., 1., 1., 1.],\n",
              "       [1., 1., 1., 1.]])"
            ]
          },
          "metadata": {},
          "execution_count": 58
        }
      ]
    },
    {
      "cell_type": "code",
      "metadata": {
        "colab": {
          "base_uri": "https://localhost:8080/"
        },
        "id": "JscESq_Oz6I6",
        "outputId": "56659c1f-3a6d-482d-881a-267ffb78bcb3"
      },
      "source": [
        "np.ones((2,4))/0"
      ],
      "execution_count": null,
      "outputs": [
        {
          "output_type": "stream",
          "name": "stderr",
          "text": [
            "/usr/local/lib/python3.7/dist-packages/ipykernel_launcher.py:1: RuntimeWarning: divide by zero encountered in true_divide\n",
            "  \"\"\"Entry point for launching an IPython kernel.\n"
          ]
        },
        {
          "output_type": "execute_result",
          "data": {
            "text/plain": [
              "array([[inf, inf, inf, inf],\n",
              "       [inf, inf, inf, inf]])"
            ]
          },
          "metadata": {},
          "execution_count": 61
        }
      ]
    },
    {
      "cell_type": "code",
      "metadata": {
        "colab": {
          "base_uri": "https://localhost:8080/"
        },
        "id": "LEtgjpyQz6K9",
        "outputId": "066b3d16-dd68-457e-9fae-4e0c9d60463d"
      },
      "source": [
        "np.full(4,\"sonsuz\")"
      ],
      "execution_count": null,
      "outputs": [
        {
          "output_type": "execute_result",
          "data": {
            "text/plain": [
              "array(['sonsuz', 'sonsuz', 'sonsuz', 'sonsuz'], dtype='<U6')"
            ]
          },
          "metadata": {},
          "execution_count": 62
        }
      ]
    },
    {
      "cell_type": "code",
      "metadata": {
        "id": "Of6aRTKCz6PD"
      },
      "source": [
        "import matplotlib.pyplot as plt\n",
        "%matplotlib inline"
      ],
      "execution_count": null,
      "outputs": []
    },
    {
      "cell_type": "code",
      "metadata": {
        "colab": {
          "base_uri": "https://localhost:8080/",
          "height": 283
        },
        "id": "DJDkVSYQz6Rc",
        "outputId": "1fe77d9a-c8d3-4554-955c-cd4537c535bd"
      },
      "source": [
        "a = np.full((32,32,3),255,dtype=int)\n",
        "a[:,:,0] = 255\n",
        "a[:,:,1] = 255\n",
        "a[:,:,2] = 0\n",
        "plt.imshow(a)"
      ],
      "execution_count": null,
      "outputs": [
        {
          "output_type": "execute_result",
          "data": {
            "text/plain": [
              "<matplotlib.image.AxesImage at 0x7f4c0d69d190>"
            ]
          },
          "metadata": {},
          "execution_count": 68
        },
        {
          "output_type": "display_data",
          "data": {
            "image/png": "[encoded data removed]",
            "text/plain": [
              "<Figure size 432x288 with 1 Axes>"
            ]
          },
          "metadata": {
            "needs_background": "light"
          }
        }
      ]
    },
    {
      "cell_type": "code",
      "metadata": {
        "id": "ecoTnYvcz6UG"
      },
      "source": [
        "b = np.arange(36)"
      ],
      "execution_count": null,
      "outputs": []
    },
    {
      "cell_type": "code",
      "metadata": {
        "colab": {
          "base_uri": "https://localhost:8080/"
        },
        "id": "QJS0hQwUz6XY",
        "outputId": "aecc7b99-e167-47bc-c105-27814e7ac769"
      },
      "source": [
        "b"
      ],
      "execution_count": null,
      "outputs": [
        {
          "output_type": "execute_result",
          "data": {
            "text/plain": [
              "array([ 0,  1,  2,  3,  4,  5,  6,  7,  8,  9, 10, 11, 12, 13, 14, 15, 16,\n",
              "       17, 18, 19, 20, 21, 22, 23, 24, 25, 26, 27, 28, 29, 30, 31, 32, 33,\n",
              "       34, 35])"
            ]
          },
          "metadata": {},
          "execution_count": 71
        }
      ]
    },
    {
      "cell_type": "code",
      "metadata": {
        "colab": {
          "base_uri": "https://localhost:8080/"
        },
        "id": "VtnZLT_fz6ZN",
        "outputId": "895bd46e-f859-4cb1-f548-d46e16c8335f"
      },
      "source": [
        "b.size"
      ],
      "execution_count": null,
      "outputs": [
        {
          "output_type": "execute_result",
          "data": {
            "text/plain": [
              "36"
            ]
          },
          "metadata": {},
          "execution_count": 74
        }
      ]
    },
    {
      "cell_type": "code",
      "metadata": {
        "colab": {
          "base_uri": "https://localhost:8080/"
        },
        "id": "8aCvs2e-z6cC",
        "outputId": "b36a8b5e-b7ec-4407-b28d-c9205245088f"
      },
      "source": [
        "b.reshape(36,1)"
      ],
      "execution_count": null,
      "outputs": [
        {
          "output_type": "execute_result",
          "data": {
            "text/plain": [
              "array([[ 0],\n",
              "       [ 1],\n",
              "       [ 2],\n",
              "       [ 3],\n",
              "       [ 4],\n",
              "       [ 5],\n",
              "       [ 6],\n",
              "       [ 7],\n",
              "       [ 8],\n",
              "       [ 9],\n",
              "       [10],\n",
              "       [11],\n",
              "       [12],\n",
              "       [13],\n",
              "       [14],\n",
              "       [15],\n",
              "       [16],\n",
              "       [17],\n",
              "       [18],\n",
              "       [19],\n",
              "       [20],\n",
              "       [21],\n",
              "       [22],\n",
              "       [23],\n",
              "       [24],\n",
              "       [25],\n",
              "       [26],\n",
              "       [27],\n",
              "       [28],\n",
              "       [29],\n",
              "       [30],\n",
              "       [31],\n",
              "       [32],\n",
              "       [33],\n",
              "       [34],\n",
              "       [35]])"
            ]
          },
          "metadata": {},
          "execution_count": 75
        }
      ]
    },
    {
      "cell_type": "code",
      "metadata": {
        "colab": {
          "base_uri": "https://localhost:8080/"
        },
        "id": "BnO3T_68z6g1",
        "outputId": "1913fc1d-374b-40b3-8555-d1576f5342ee"
      },
      "source": [
        "b.sum()"
      ],
      "execution_count": null,
      "outputs": [
        {
          "output_type": "execute_result",
          "data": {
            "text/plain": [
              "630"
            ]
          },
          "metadata": {},
          "execution_count": 78
        }
      ]
    },
    {
      "cell_type": "code",
      "metadata": {
        "colab": {
          "base_uri": "https://localhost:8080/"
        },
        "id": "Wr3eS5Voz6kn",
        "outputId": "905cbc9e-6665-48a1-863c-0445f349157d"
      },
      "source": [
        "b.argmin()"
      ],
      "execution_count": null,
      "outputs": [
        {
          "output_type": "execute_result",
          "data": {
            "text/plain": [
              "0"
            ]
          },
          "metadata": {},
          "execution_count": 80
        }
      ]
    },
    {
      "cell_type": "code",
      "metadata": {
        "colab": {
          "base_uri": "https://localhost:8080/"
        },
        "id": "f_5hbGnTz6oT",
        "outputId": "b7c85d99-8c49-4dd3-eb71-2148cecdc6ad"
      },
      "source": [
        "b.min()"
      ],
      "execution_count": null,
      "outputs": [
        {
          "output_type": "execute_result",
          "data": {
            "text/plain": [
              "0"
            ]
          },
          "metadata": {},
          "execution_count": 81
        }
      ]
    },
    {
      "cell_type": "code",
      "metadata": {
        "id": "gB-oc4xL5zr9"
      },
      "source": [
        "import numpy as np"
      ],
      "execution_count": null,
      "outputs": []
    },
    {
      "cell_type": "code",
      "metadata": {
        "id": "ZMTZ94Mpz6tk",
        "colab": {
          "base_uri": "https://localhost:8080/"
        },
        "outputId": "ab6c1420-51ba-4064-d075-d6e8ce6647bc"
      },
      "source": [
        "np.random.rand(5)"
      ],
      "execution_count": null,
      "outputs": [
        {
          "output_type": "execute_result",
          "data": {
            "text/plain": [
              "array([0.86799585, 0.51916655, 0.26937128, 0.88490442, 0.64505122])"
            ]
          },
          "metadata": {},
          "execution_count": 3
        }
      ]
    },
    {
      "cell_type": "code",
      "metadata": {
        "id": "lk7YvThuz6wO",
        "colab": {
          "base_uri": "https://localhost:8080/"
        },
        "outputId": "b9a6eb65-52c7-4458-c1a3-6cccb3fd0950"
      },
      "source": [
        "np.random.rand(5)*10"
      ],
      "execution_count": null,
      "outputs": [
        {
          "output_type": "execute_result",
          "data": {
            "text/plain": [
              "array([5.84158371, 8.98210715, 3.74178894, 3.36177141, 4.83548143])"
            ]
          },
          "metadata": {},
          "execution_count": 4
        }
      ]
    },
    {
      "cell_type": "code",
      "metadata": {
        "id": "Y-itylI0z6yr",
        "colab": {
          "base_uri": "https://localhost:8080/"
        },
        "outputId": "99eb23a7-87e8-43e7-986a-b4eda1a99aa4"
      },
      "source": [
        "np.random.rand(5,5)"
      ],
      "execution_count": null,
      "outputs": [
        {
          "output_type": "execute_result",
          "data": {
            "text/plain": [
              "array([[0.69110145, 0.89755113, 0.00897035, 0.21317268, 0.52483615],\n",
              "       [0.7555503 , 0.73480366, 0.51738498, 0.99052513, 0.98809099],\n",
              "       [0.74230408, 0.05302852, 0.27292389, 0.55655757, 0.31127258],\n",
              "       [0.13957677, 0.00859744, 0.47837602, 0.83538524, 0.66312761],\n",
              "       [0.46999131, 0.76400725, 0.12143352, 0.80606934, 0.73532097]])"
            ]
          },
          "metadata": {},
          "execution_count": 5
        }
      ]
    },
    {
      "cell_type": "code",
      "metadata": {
        "id": "JJ2J95Jwz61S",
        "colab": {
          "base_uri": "https://localhost:8080/"
        },
        "outputId": "9c73f4d0-c4b7-42e2-c466-a025ed378fab"
      },
      "source": [
        "np.random.rand(5,5)*10"
      ],
      "execution_count": null,
      "outputs": [
        {
          "output_type": "execute_result",
          "data": {
            "text/plain": [
              "array([[9.58992021, 3.45119854, 3.63818888, 5.50166249, 5.85588956],\n",
              "       [0.90282889, 9.29168404, 3.60545849, 4.81647395, 9.44723597],\n",
              "       [7.10806218, 8.13584939, 0.19806531, 3.12521284, 5.13605589],\n",
              "       [9.60023605, 0.12019652, 3.03268437, 5.16114134, 6.12121097],\n",
              "       [2.2460071 , 7.51361504, 0.97630086, 4.56317501, 3.99459549]])"
            ]
          },
          "metadata": {},
          "execution_count": 8
        }
      ]
    },
    {
      "cell_type": "code",
      "metadata": {
        "id": "ZKU3nwtzz64A",
        "colab": {
          "base_uri": "https://localhost:8080/"
        },
        "outputId": "4ae7e0d3-f61f-4fc3-b344-3d8dc3955f7d"
      },
      "source": [
        "rand_float = np.random.rand(5,5)\n",
        "rand_float"
      ],
      "execution_count": null,
      "outputs": [
        {
          "output_type": "execute_result",
          "data": {
            "text/plain": [
              "array([[0.04682907, 0.18074371, 0.74026033, 0.19336812, 0.32007664],\n",
              "       [0.40658719, 0.31251509, 0.79444481, 0.08725629, 0.37185336],\n",
              "       [0.90843923, 0.27564443, 0.7130127 , 0.67114524, 0.94226766],\n",
              "       [0.40253392, 0.30656872, 0.91590295, 0.76175475, 0.26932602],\n",
              "       [0.42379894, 0.84849611, 0.6146496 , 0.76406802, 0.13691261]])"
            ]
          },
          "metadata": {},
          "execution_count": 9
        }
      ]
    },
    {
      "cell_type": "code",
      "metadata": {
        "id": "AmO8_s_qz656",
        "colab": {
          "base_uri": "https://localhost:8080/"
        },
        "outputId": "74834e5d-50dc-4c25-e5be-159fe90d09f3"
      },
      "source": [
        "rand_float[0]"
      ],
      "execution_count": null,
      "outputs": [
        {
          "output_type": "execute_result",
          "data": {
            "text/plain": [
              "array([0.04682907, 0.18074371, 0.74026033, 0.19336812, 0.32007664])"
            ]
          },
          "metadata": {},
          "execution_count": 10
        }
      ]
    },
    {
      "cell_type": "code",
      "metadata": {
        "id": "mtesLWKSz68Q",
        "colab": {
          "base_uri": "https://localhost:8080/",
          "height": 265
        },
        "outputId": "612e0ead-66cd-4d10-9e8a-e8aeac39c786"
      },
      "source": [
        "import matplotlib.pyplot as plt\n",
        "%matplotlib inline\n",
        "\n",
        "plt.hist(rand_float);"
      ],
      "execution_count": null,
      "outputs": [
        {
          "output_type": "display_data",
          "data": {
            "image/png": "[encoded data removed]",
            "text/plain": [
              "<Figure size 432x288 with 1 Axes>"
            ]
          },
          "metadata": {
            "needs_background": "light"
          }
        }
      ]
    },
    {
      "cell_type": "code",
      "metadata": {
        "id": "GoXUsgM8z6-t",
        "colab": {
          "base_uri": "https://localhost:8080/",
          "height": 265
        },
        "outputId": "c049ddbd-7ff6-4701-9a68-4db2f21b3fb4"
      },
      "source": [
        "arr = np.random.rand(99999)\n",
        "plt.hist(arr, bins=100)\n",
        "plt.show()"
      ],
      "execution_count": null,
      "outputs": [
        {
          "output_type": "display_data",
          "data": {
            "image/png": "[encoded data removed]",
            "text/plain": [
              "<Figure size 432x288 with 1 Axes>"
            ]
          },
          "metadata": {
            "needs_background": "light"
          }
        }
      ]
    },
    {
      "cell_type": "code",
      "metadata": {
        "id": "IzAwB9xsz7DH",
        "colab": {
          "base_uri": "https://localhost:8080/"
        },
        "outputId": "ab0a197e-22e4-4de6-85df-0c384b7e21ac"
      },
      "source": [
        "np.random.randn(5)"
      ],
      "execution_count": null,
      "outputs": [
        {
          "output_type": "execute_result",
          "data": {
            "text/plain": [
              "array([-1.27760059,  0.68082287, -0.21406634,  0.62530901, -1.5721368 ])"
            ]
          },
          "metadata": {},
          "execution_count": 16
        }
      ]
    },
    {
      "cell_type": "code",
      "metadata": {
        "id": "I3aEzHstz7Fs",
        "colab": {
          "base_uri": "https://localhost:8080/"
        },
        "outputId": "f931d254-d60c-45be-a227-07179b40e97f"
      },
      "source": [
        "np.random.randn(5,5)"
      ],
      "execution_count": null,
      "outputs": [
        {
          "output_type": "execute_result",
          "data": {
            "text/plain": [
              "array([[ 0.96631771,  0.76511635, -0.72489373, -0.78366315, -0.94825254],\n",
              "       [-0.30717312, -0.00405645,  0.05598337, -1.16447859, -1.05687312],\n",
              "       [-0.8351933 , -0.3785652 , -1.71041285, -1.44056907,  0.09526417],\n",
              "       [ 0.57742514, -0.08272589,  0.90822075, -0.82971065,  1.19571937],\n",
              "       [-0.60105203,  0.27608763, -0.68599369, -0.08233412, -1.3172033 ]])"
            ]
          },
          "metadata": {},
          "execution_count": 17
        }
      ]
    },
    {
      "cell_type": "code",
      "metadata": {
        "id": "6NvKvgJ5z7I0",
        "colab": {
          "base_uri": "https://localhost:8080/",
          "height": 265
        },
        "outputId": "247e43e1-3db1-4f28-9d23-68963691ff44"
      },
      "source": [
        "arr_n = np.random.randn(99999)\n",
        "plt.hist(arr_n, bins=100)\n",
        "plt.show()"
      ],
      "execution_count": null,
      "outputs": [
        {
          "output_type": "display_data",
          "data": {
            "image/png": "[encoded data removed]",
            "text/plain": [
              "<Figure size 432x288 with 1 Axes>"
            ]
          },
          "metadata": {
            "needs_background": "light"
          }
        }
      ]
    },
    {
      "cell_type": "code",
      "metadata": {
        "id": "PcC61tIfz7KW",
        "colab": {
          "base_uri": "https://localhost:8080/"
        },
        "outputId": "77ebee2a-bdd6-4f8e-a862-35521abfd992"
      },
      "source": [
        "arr_n.mean()"
      ],
      "execution_count": null,
      "outputs": [
        {
          "output_type": "execute_result",
          "data": {
            "text/plain": [
              "-0.00286802872879095"
            ]
          },
          "metadata": {},
          "execution_count": 25
        }
      ]
    },
    {
      "cell_type": "code",
      "metadata": {
        "colab": {
          "base_uri": "https://localhost:8080/"
        },
        "id": "MOyadok49KS1",
        "outputId": "33cb1043-3c40-48f3-9bb2-f9bd73735b9e"
      },
      "source": [
        "arr_n.std()"
      ],
      "execution_count": null,
      "outputs": [
        {
          "output_type": "execute_result",
          "data": {
            "text/plain": [
              "1.000885918927989"
            ]
          },
          "metadata": {},
          "execution_count": 26
        }
      ]
    },
    {
      "cell_type": "code",
      "metadata": {
        "id": "7PzBH-DSz7Mu",
        "colab": {
          "base_uri": "https://localhost:8080/",
          "height": 265
        },
        "outputId": "42f65218-5dc1-4446-d1b8-e319519fd61f"
      },
      "source": [
        "arr_s = np.random.randn(9)\n",
        "plt.hist(arr_s)\n",
        "plt.show()"
      ],
      "execution_count": null,
      "outputs": [
        {
          "output_type": "display_data",
          "data": {
            "image/png": "[encoded data removed]",
            "text/plain": [
              "<Figure size 432x288 with 1 Axes>"
            ]
          },
          "metadata": {
            "needs_background": "light"
          }
        }
      ]
    },
    {
      "cell_type": "code",
      "metadata": {
        "id": "2T6C78Vqz7Pd",
        "colab": {
          "base_uri": "https://localhost:8080/"
        },
        "outputId": "aaa00d0c-f296-4d7a-925f-7cde361caf65"
      },
      "source": [
        "arr_s.mean()"
      ],
      "execution_count": null,
      "outputs": [
        {
          "output_type": "execute_result",
          "data": {
            "text/plain": [
              "-0.4073604065596623"
            ]
          },
          "metadata": {},
          "execution_count": 27
        }
      ]
    },
    {
      "cell_type": "code",
      "metadata": {
        "id": "NOtEP3Lcz7R6",
        "colab": {
          "base_uri": "https://localhost:8080/"
        },
        "outputId": "d8c5f0e2-5986-422c-b6ed-09a191f0852c"
      },
      "source": [
        "arr_s.std()"
      ],
      "execution_count": null,
      "outputs": [
        {
          "output_type": "execute_result",
          "data": {
            "text/plain": [
              "1.1117517708957958"
            ]
          },
          "metadata": {},
          "execution_count": 28
        }
      ]
    },
    {
      "cell_type": "code",
      "metadata": {
        "id": "pqXVEfESz7Wd",
        "colab": {
          "base_uri": "https://localhost:8080/"
        },
        "outputId": "26b766f0-51e2-4021-99a8-8f004db0f452"
      },
      "source": [
        "arr_s.var()"
      ],
      "execution_count": null,
      "outputs": [
        {
          "output_type": "execute_result",
          "data": {
            "text/plain": [
              "1.235992000089938"
            ]
          },
          "metadata": {},
          "execution_count": 29
        }
      ]
    },
    {
      "cell_type": "code",
      "metadata": {
        "id": "4UNd3WeTz7bz",
        "colab": {
          "base_uri": "https://localhost:8080/"
        },
        "outputId": "578fd359-835a-4fd1-aac3-b76d1bd7a657"
      },
      "source": [
        "np.random.randint(0,10,size=(2,4))"
      ],
      "execution_count": null,
      "outputs": [
        {
          "output_type": "execute_result",
          "data": {
            "text/plain": [
              "array([[5, 3, 8, 0],\n",
              "       [6, 0, 4, 4]])"
            ]
          },
          "metadata": {},
          "execution_count": 37
        }
      ]
    },
    {
      "cell_type": "code",
      "metadata": {
        "id": "8fExoIMcz7eo",
        "colab": {
          "base_uri": "https://localhost:8080/"
        },
        "outputId": "4e9e7cab-a01a-4390-c1b6-883a7993c6b6"
      },
      "source": [
        "np.random.randint(0,[2,1,5])"
      ],
      "execution_count": null,
      "outputs": [
        {
          "output_type": "execute_result",
          "data": {
            "text/plain": [
              "array([1, 0, 0])"
            ]
          },
          "metadata": {},
          "execution_count": 41
        }
      ]
    },
    {
      "cell_type": "code",
      "metadata": {
        "id": "VTPq88cIz7j9",
        "colab": {
          "base_uri": "https://localhost:8080/"
        },
        "outputId": "3b8fc5c3-ad5a-46ee-9fb6-85382b556de9"
      },
      "source": [
        "np.random.randint([18,60,160,0], #low\n",
        "                  [35,100,210,5]) #high"
      ],
      "execution_count": null,
      "outputs": [
        {
          "output_type": "execute_result",
          "data": {
            "text/plain": [
              "array([ 18,  62, 184,   1])"
            ]
          },
          "metadata": {},
          "execution_count": 43
        }
      ]
    },
    {
      "cell_type": "code",
      "metadata": {
        "id": "hBff47Avz7nR",
        "colab": {
          "base_uri": "https://localhost:8080/"
        },
        "outputId": "322d386b-ff5e-4e9c-8485-3be9a810e480"
      },
      "source": [
        "ones = np.ones((4,4))\n",
        "ones"
      ],
      "execution_count": null,
      "outputs": [
        {
          "output_type": "execute_result",
          "data": {
            "text/plain": [
              "array([[1., 1., 1., 1.],\n",
              "       [1., 1., 1., 1.],\n",
              "       [1., 1., 1., 1.],\n",
              "       [1., 1., 1., 1.]])"
            ]
          },
          "metadata": {},
          "execution_count": 46
        }
      ]
    },
    {
      "cell_type": "code",
      "metadata": {
        "id": "lwFdC5eDz7pR"
      },
      "source": [
        "rand = np.random.randint(2,10,size=(4,4))"
      ],
      "execution_count": null,
      "outputs": []
    },
    {
      "cell_type": "code",
      "metadata": {
        "id": "6zBbwtnBz7sA",
        "colab": {
          "base_uri": "https://localhost:8080/"
        },
        "outputId": "d54c45b9-9538-428e-ffe4-554a82eff6e8"
      },
      "source": [
        "rand"
      ],
      "execution_count": null,
      "outputs": [
        {
          "output_type": "execute_result",
          "data": {
            "text/plain": [
              "array([[6, 3, 3, 8],\n",
              "       [4, 6, 7, 6],\n",
              "       [7, 7, 9, 6],\n",
              "       [2, 8, 3, 3]])"
            ]
          },
          "metadata": {},
          "execution_count": 48
        }
      ]
    },
    {
      "cell_type": "code",
      "metadata": {
        "id": "jlci9gTWz7xD",
        "colab": {
          "base_uri": "https://localhost:8080/"
        },
        "outputId": "7009e783-d018-4544-fa58-dce9bc292ad0"
      },
      "source": [
        "np.concatenate([ones,rand]) #axis = 0"
      ],
      "execution_count": null,
      "outputs": [
        {
          "output_type": "execute_result",
          "data": {
            "text/plain": [
              "array([[1., 1., 1., 1.],\n",
              "       [1., 1., 1., 1.],\n",
              "       [1., 1., 1., 1.],\n",
              "       [1., 1., 1., 1.],\n",
              "       [6., 3., 3., 8.],\n",
              "       [4., 6., 7., 6.],\n",
              "       [7., 7., 9., 6.],\n",
              "       [2., 8., 3., 3.]])"
            ]
          },
          "metadata": {},
          "execution_count": 50
        }
      ]
    },
    {
      "cell_type": "code",
      "metadata": {
        "id": "SKaeVelzz7zu",
        "colab": {
          "base_uri": "https://localhost:8080/"
        },
        "outputId": "e91a09f3-8334-4f19-ffc5-8310f4c36e95"
      },
      "source": [
        "np.concatenate([ones,rand], axis = 1)"
      ],
      "execution_count": null,
      "outputs": [
        {
          "output_type": "execute_result",
          "data": {
            "text/plain": [
              "array([[1., 1., 1., 1., 6., 3., 3., 8.],\n",
              "       [1., 1., 1., 1., 4., 6., 7., 6.],\n",
              "       [1., 1., 1., 1., 7., 7., 9., 6.],\n",
              "       [1., 1., 1., 1., 2., 8., 3., 3.]])"
            ]
          },
          "metadata": {},
          "execution_count": 51
        }
      ]
    },
    {
      "cell_type": "code",
      "metadata": {
        "id": "X8T8yCF6z72T"
      },
      "source": [
        "rand1 = np.random.randint(2,10,size=(4,5))"
      ],
      "execution_count": null,
      "outputs": []
    },
    {
      "cell_type": "code",
      "metadata": {
        "id": "KYBWD_hbz74_",
        "colab": {
          "base_uri": "https://localhost:8080/"
        },
        "outputId": "03de5052-8f3b-4d93-9b03-bafc45855ac1"
      },
      "source": [
        "rand1"
      ],
      "execution_count": null,
      "outputs": [
        {
          "output_type": "execute_result",
          "data": {
            "text/plain": [
              "array([[3, 8, 7, 2, 3],\n",
              "       [8, 8, 3, 5, 7],\n",
              "       [2, 3, 3, 3, 8],\n",
              "       [7, 4, 4, 2, 7]])"
            ]
          },
          "metadata": {},
          "execution_count": 53
        }
      ]
    },
    {
      "cell_type": "code",
      "metadata": {
        "id": "nF-VKO4uz77x",
        "colab": {
          "base_uri": "https://localhost:8080/",
          "height": 218
        },
        "outputId": "871ca3b7-90aa-471a-c899-a53d9a5fc089"
      },
      "source": [
        "np.concatenate([ones,rand1])"
      ],
      "execution_count": null,
      "outputs": [
        {
          "output_type": "error",
          "ename": "ValueError",
          "evalue": "ignored",
          "traceback": [
            "\u001b[0;31m---------------------------------------------------------------------------\u001b[0m",
            "\u001b[0;31mValueError\u001b[0m                                Traceback (most recent call last)",
            "\u001b[0;32m<ipython-input-54-8d5b0df3b205>\u001b[0m in \u001b[0;36m<module>\u001b[0;34m()\u001b[0m\n\u001b[0;32m----> 1\u001b[0;31m \u001b[0mnp\u001b[0m\u001b[0;34m.\u001b[0m\u001b[0mconcatenate\u001b[0m\u001b[0;34m(\u001b[0m\u001b[0;34m[\u001b[0m\u001b[0mones\u001b[0m\u001b[0;34m,\u001b[0m\u001b[0mrand1\u001b[0m\u001b[0;34m]\u001b[0m\u001b[0;34m)\u001b[0m\u001b[0;34m\u001b[0m\u001b[0;34m\u001b[0m\u001b[0m\n\u001b[0m",
            "\u001b[0;32m<__array_function__ internals>\u001b[0m in \u001b[0;36mconcatenate\u001b[0;34m(*args, **kwargs)\u001b[0m\n",
            "\u001b[0;31mValueError\u001b[0m: all the input array dimensions for the concatenation axis must match exactly, but along dimension 1, the array at index 0 has size 4 and the array at index 1 has size 5"
          ]
        }
      ]
    },
    {
      "cell_type": "code",
      "metadata": {
        "id": "3i9k9J4Mz7-H",
        "colab": {
          "base_uri": "https://localhost:8080/"
        },
        "outputId": "3ef4fc0c-59de-4768-bb6b-d20672e46341"
      },
      "source": [
        "concat = np.arange(0,25).reshape(5,5)\n",
        "concat"
      ],
      "execution_count": null,
      "outputs": [
        {
          "output_type": "execute_result",
          "data": {
            "text/plain": [
              "array([[ 0,  1,  2,  3,  4],\n",
              "       [ 5,  6,  7,  8,  9],\n",
              "       [10, 11, 12, 13, 14],\n",
              "       [15, 16, 17, 18, 19],\n",
              "       [20, 21, 22, 23, 24]])"
            ]
          },
          "metadata": {},
          "execution_count": 57
        }
      ]
    },
    {
      "cell_type": "code",
      "metadata": {
        "id": "T1cTeKlKz8At",
        "colab": {
          "base_uri": "https://localhost:8080/"
        },
        "outputId": "fb9c9572-69a7-4815-9559-5996758b3b73"
      },
      "source": [
        "np.split(concat,[1,3]) # axis = 0, a axis"
      ],
      "execution_count": null,
      "outputs": [
        {
          "output_type": "execute_result",
          "data": {
            "text/plain": [
              "[array([[0, 1, 2, 3, 4]]), array([[ 5,  6,  7,  8,  9],\n",
              "        [10, 11, 12, 13, 14]]), array([[15, 16, 17, 18, 19],\n",
              "        [20, 21, 22, 23, 24]])]"
            ]
          },
          "metadata": {},
          "execution_count": 60
        }
      ]
    },
    {
      "cell_type": "code",
      "metadata": {
        "id": "YTKwVFQ1z8C_",
        "colab": {
          "base_uri": "https://localhost:8080/"
        },
        "outputId": "cd692e6a-7e3d-4459-8b31-b764ccf5f457"
      },
      "source": [
        "np.split(concat,[2,3],axis=1) #axis=1 y axis, column, feature"
      ],
      "execution_count": null,
      "outputs": [
        {
          "output_type": "execute_result",
          "data": {
            "text/plain": [
              "[array([[ 0,  1],\n",
              "        [ 5,  6],\n",
              "        [10, 11],\n",
              "        [15, 16],\n",
              "        [20, 21]]), array([[ 2],\n",
              "        [ 7],\n",
              "        [12],\n",
              "        [17],\n",
              "        [22]]), array([[ 3,  4],\n",
              "        [ 8,  9],\n",
              "        [13, 14],\n",
              "        [18, 19],\n",
              "        [23, 24]])]"
            ]
          },
          "metadata": {},
          "execution_count": 61
        }
      ]
    },
    {
      "cell_type": "code",
      "metadata": {
        "id": "5V8IMnCGz8Fa"
      },
      "source": [
        "import numpy as np\n",
        "import pandas as pd\n",
        "import seaborn as sns\n",
        "import matplotlib.pyplot as plt\n",
        "%matplotlib inline"
      ],
      "execution_count": null,
      "outputs": []
    },
    {
      "cell_type": "code",
      "metadata": {
        "id": "De4bn6Dtz8Hv"
      },
      "source": [
        "df = sns.load_dataset(\"diamonds\")"
      ],
      "execution_count": null,
      "outputs": []
    },
    {
      "cell_type": "code",
      "metadata": {
        "id": "qjuGFTDSz8KH",
        "colab": {
          "base_uri": "https://localhost:8080/",
          "height": 423
        },
        "outputId": "d36dc628-acb8-4979-a051-19708464d5a8"
      },
      "source": [
        "df"
      ],
      "execution_count": null,
      "outputs": [
        {
          "output_type": "execute_result",
          "data": {
            "text/html": [
              "<div>\n",
              "<style scoped>\n",
              "    .dataframe tbody tr th:only-of-type {\n",
              "        vertical-align: middle;\n",
              "    }\n",
              "\n",
              "    .dataframe tbody tr th {\n",
              "        vertical-align: top;\n",
              "    }\n",
              "\n",
              "    .dataframe thead th {\n",
              "        text-align: right;\n",
              "    }\n",
              "</style>\n",
              "<table border=\"1\" class=\"dataframe\">\n",
              "  <thead>\n",
              "    <tr style=\"text-align: right;\">\n",
              "      <th></th>\n",
              "      <th>carat</th>\n",
              "      <th>cut</th>\n",
              "      <th>color</th>\n",
              "      <th>clarity</th>\n",
              "      <th>depth</th>\n",
              "      <th>table</th>\n",
              "      <th>price</th>\n",
              "      <th>x</th>\n",
              "      <th>y</th>\n",
              "      <th>z</th>\n",
              "    </tr>\n",
              "  </thead>\n",
              "  <tbody>\n",
              "    <tr>\n",
              "      <th>0</th>\n",
              "      <td>0.23</td>\n",
              "      <td>Ideal</td>\n",
              "      <td>E</td>\n",
              "      <td>SI2</td>\n",
              "      <td>61.5</td>\n",
              "      <td>55.0</td>\n",
              "      <td>326</td>\n",
              "      <td>3.95</td>\n",
              "      <td>3.98</td>\n",
              "      <td>2.43</td>\n",
              "    </tr>\n",
              "    <tr>\n",
              "      <th>1</th>\n",
              "      <td>0.21</td>\n",
              "      <td>Premium</td>\n",
              "      <td>E</td>\n",
              "      <td>SI1</td>\n",
              "      <td>59.8</td>\n",
              "      <td>61.0</td>\n",
              "      <td>326</td>\n",
              "      <td>3.89</td>\n",
              "      <td>3.84</td>\n",
              "      <td>2.31</td>\n",
              "    </tr>\n",
              "    <tr>\n",
              "      <th>2</th>\n",
              "      <td>0.23</td>\n",
              "      <td>Good</td>\n",
              "      <td>E</td>\n",
              "      <td>VS1</td>\n",
              "      <td>56.9</td>\n",
              "      <td>65.0</td>\n",
              "      <td>327</td>\n",
              "      <td>4.05</td>\n",
              "      <td>4.07</td>\n",
              "      <td>2.31</td>\n",
              "    </tr>\n",
              "    <tr>\n",
              "      <th>3</th>\n",
              "      <td>0.29</td>\n",
              "      <td>Premium</td>\n",
              "      <td>I</td>\n",
              "      <td>VS2</td>\n",
              "      <td>62.4</td>\n",
              "      <td>58.0</td>\n",
              "      <td>334</td>\n",
              "      <td>4.20</td>\n",
              "      <td>4.23</td>\n",
              "      <td>2.63</td>\n",
              "    </tr>\n",
              "    <tr>\n",
              "      <th>4</th>\n",
              "      <td>0.31</td>\n",
              "      <td>Good</td>\n",
              "      <td>J</td>\n",
              "      <td>SI2</td>\n",
              "      <td>63.3</td>\n",
              "      <td>58.0</td>\n",
              "      <td>335</td>\n",
              "      <td>4.34</td>\n",
              "      <td>4.35</td>\n",
              "      <td>2.75</td>\n",
              "    </tr>\n",
              "    <tr>\n",
              "      <th>...</th>\n",
              "      <td>...</td>\n",
              "      <td>...</td>\n",
              "      <td>...</td>\n",
              "      <td>...</td>\n",
              "      <td>...</td>\n",
              "      <td>...</td>\n",
              "      <td>...</td>\n",
              "      <td>...</td>\n",
              "      <td>...</td>\n",
              "      <td>...</td>\n",
              "    </tr>\n",
              "    <tr>\n",
              "      <th>53935</th>\n",
              "      <td>0.72</td>\n",
              "      <td>Ideal</td>\n",
              "      <td>D</td>\n",
              "      <td>SI1</td>\n",
              "      <td>60.8</td>\n",
              "      <td>57.0</td>\n",
              "      <td>2757</td>\n",
              "      <td>5.75</td>\n",
              "      <td>5.76</td>\n",
              "      <td>3.50</td>\n",
              "    </tr>\n",
              "    <tr>\n",
              "      <th>53936</th>\n",
              "      <td>0.72</td>\n",
              "      <td>Good</td>\n",
              "      <td>D</td>\n",
              "      <td>SI1</td>\n",
              "      <td>63.1</td>\n",
              "      <td>55.0</td>\n",
              "      <td>2757</td>\n",
              "      <td>5.69</td>\n",
              "      <td>5.75</td>\n",
              "      <td>3.61</td>\n",
              "    </tr>\n",
              "    <tr>\n",
              "      <th>53937</th>\n",
              "      <td>0.70</td>\n",
              "      <td>Very Good</td>\n",
              "      <td>D</td>\n",
              "      <td>SI1</td>\n",
              "      <td>62.8</td>\n",
              "      <td>60.0</td>\n",
              "      <td>2757</td>\n",
              "      <td>5.66</td>\n",
              "      <td>5.68</td>\n",
              "      <td>3.56</td>\n",
              "    </tr>\n",
              "    <tr>\n",
              "      <th>53938</th>\n",
              "      <td>0.86</td>\n",
              "      <td>Premium</td>\n",
              "      <td>H</td>\n",
              "      <td>SI2</td>\n",
              "      <td>61.0</td>\n",
              "      <td>58.0</td>\n",
              "      <td>2757</td>\n",
              "      <td>6.15</td>\n",
              "      <td>6.12</td>\n",
              "      <td>3.74</td>\n",
              "    </tr>\n",
              "    <tr>\n",
              "      <th>53939</th>\n",
              "      <td>0.75</td>\n",
              "      <td>Ideal</td>\n",
              "      <td>D</td>\n",
              "      <td>SI2</td>\n",
              "      <td>62.2</td>\n",
              "      <td>55.0</td>\n",
              "      <td>2757</td>\n",
              "      <td>5.83</td>\n",
              "      <td>5.87</td>\n",
              "      <td>3.64</td>\n",
              "    </tr>\n",
              "  </tbody>\n",
              "</table>\n",
              "<p>53940 rows × 10 columns</p>\n",
              "</div>"
            ],
            "text/plain": [
              "       carat        cut color clarity  depth  table  price     x     y     z\n",
              "0       0.23      Ideal     E     SI2   61.5   55.0    326  3.95  3.98  2.43\n",
              "1       0.21    Premium     E     SI1   59.8   61.0    326  3.89  3.84  2.31\n",
              "2       0.23       Good     E     VS1   56.9   65.0    327  4.05  4.07  2.31\n",
              "3       0.29    Premium     I     VS2   62.4   58.0    334  4.20  4.23  2.63\n",
              "4       0.31       Good     J     SI2   63.3   58.0    335  4.34  4.35  2.75\n",
              "...      ...        ...   ...     ...    ...    ...    ...   ...   ...   ...\n",
              "53935   0.72      Ideal     D     SI1   60.8   57.0   2757  5.75  5.76  3.50\n",
              "53936   0.72       Good     D     SI1   63.1   55.0   2757  5.69  5.75  3.61\n",
              "53937   0.70  Very Good     D     SI1   62.8   60.0   2757  5.66  5.68  3.56\n",
              "53938   0.86    Premium     H     SI2   61.0   58.0   2757  6.15  6.12  3.74\n",
              "53939   0.75      Ideal     D     SI2   62.2   55.0   2757  5.83  5.87  3.64\n",
              "\n",
              "[53940 rows x 10 columns]"
            ]
          },
          "metadata": {},
          "execution_count": 64
        }
      ]
    },
    {
      "cell_type": "code",
      "metadata": {
        "id": "1mc2gCVVz8Mt"
      },
      "source": [
        "diamond = np.array(df[[\"carat\", \"depth\", \"price\", \"x\", \"y\", \"z\"]])"
      ],
      "execution_count": null,
      "outputs": []
    },
    {
      "cell_type": "code",
      "metadata": {
        "id": "zqg8GntJz8PK",
        "colab": {
          "base_uri": "https://localhost:8080/"
        },
        "outputId": "cfe86f6d-e0f8-4bd5-8264-f2e91156aa7a"
      },
      "source": [
        "diamond"
      ],
      "execution_count": null,
      "outputs": [
        {
          "output_type": "execute_result",
          "data": {
            "text/plain": [
              "array([[2.300e-01, 6.150e+01, 3.260e+02, 3.950e+00, 3.980e+00, 2.430e+00],\n",
              "       [2.100e-01, 5.980e+01, 3.260e+02, 3.890e+00, 3.840e+00, 2.310e+00],\n",
              "       [2.300e-01, 5.690e+01, 3.270e+02, 4.050e+00, 4.070e+00, 2.310e+00],\n",
              "       ...,\n",
              "       [7.000e-01, 6.280e+01, 2.757e+03, 5.660e+00, 5.680e+00, 3.560e+00],\n",
              "       [8.600e-01, 6.100e+01, 2.757e+03, 6.150e+00, 6.120e+00, 3.740e+00],\n",
              "       [7.500e-01, 6.220e+01, 2.757e+03, 5.830e+00, 5.870e+00, 3.640e+00]])"
            ]
          },
          "metadata": {},
          "execution_count": 69
        }
      ]
    },
    {
      "cell_type": "code",
      "metadata": {
        "id": "rG094cYAz8Rv",
        "colab": {
          "base_uri": "https://localhost:8080/"
        },
        "outputId": "273d481a-864e-4eb8-b94b-ef46b93d7714"
      },
      "source": [
        "diamond[0]"
      ],
      "execution_count": null,
      "outputs": [
        {
          "output_type": "execute_result",
          "data": {
            "text/plain": [
              "array([2.30e-01, 6.15e+01, 3.26e+02, 3.95e+00, 3.98e+00, 2.43e+00])"
            ]
          },
          "metadata": {},
          "execution_count": 73
        }
      ]
    },
    {
      "cell_type": "code",
      "metadata": {
        "id": "9jvtzSbtz8UM",
        "colab": {
          "base_uri": "https://localhost:8080/"
        },
        "outputId": "e91aa805-16e0-4238-bed9-24595ddb8558"
      },
      "source": [
        "diamond[-1]"
      ],
      "execution_count": null,
      "outputs": [
        {
          "output_type": "execute_result",
          "data": {
            "text/plain": [
              "array([7.500e-01, 6.220e+01, 2.757e+03, 5.830e+00, 5.870e+00, 3.640e+00])"
            ]
          },
          "metadata": {},
          "execution_count": 74
        }
      ]
    },
    {
      "cell_type": "code",
      "metadata": {
        "id": "UaO37A1Rz8Wj",
        "colab": {
          "base_uri": "https://localhost:8080/"
        },
        "outputId": "ce33d651-eab9-415d-9b27-20b54f3bf5ef"
      },
      "source": [
        "diamond[0:5]"
      ],
      "execution_count": null,
      "outputs": [
        {
          "output_type": "execute_result",
          "data": {
            "text/plain": [
              "array([[2.30e-01, 6.15e+01, 3.26e+02, 3.95e+00, 3.98e+00, 2.43e+00],\n",
              "       [2.10e-01, 5.98e+01, 3.26e+02, 3.89e+00, 3.84e+00, 2.31e+00],\n",
              "       [2.30e-01, 5.69e+01, 3.27e+02, 4.05e+00, 4.07e+00, 2.31e+00],\n",
              "       [2.90e-01, 6.24e+01, 3.34e+02, 4.20e+00, 4.23e+00, 2.63e+00],\n",
              "       [3.10e-01, 6.33e+01, 3.35e+02, 4.34e+00, 4.35e+00, 2.75e+00]])"
            ]
          },
          "metadata": {},
          "execution_count": 75
        }
      ]
    },
    {
      "cell_type": "code",
      "metadata": {
        "id": "qX9Q7Vflz8Yn",
        "colab": {
          "base_uri": "https://localhost:8080/"
        },
        "outputId": "2281d91a-fd64-4622-f57f-63ca10c86e78"
      },
      "source": [
        "diamond[-10:-5]"
      ],
      "execution_count": null,
      "outputs": [
        {
          "output_type": "execute_result",
          "data": {
            "text/plain": [
              "array([[7.100e-01, 6.050e+01, 2.756e+03, 5.790e+00, 5.740e+00, 3.490e+00],\n",
              "       [7.100e-01, 5.980e+01, 2.756e+03, 5.740e+00, 5.730e+00, 3.430e+00],\n",
              "       [7.000e-01, 6.050e+01, 2.757e+03, 5.710e+00, 5.760e+00, 3.470e+00],\n",
              "       [7.000e-01, 6.120e+01, 2.757e+03, 5.690e+00, 5.720e+00, 3.490e+00],\n",
              "       [7.200e-01, 6.270e+01, 2.757e+03, 5.690e+00, 5.730e+00, 3.580e+00]])"
            ]
          },
          "metadata": {},
          "execution_count": 76
        }
      ]
    },
    {
      "cell_type": "code",
      "metadata": {
        "id": "nNC_NVk-xDEp",
        "colab": {
          "base_uri": "https://localhost:8080/"
        },
        "outputId": "08687fbc-9c7e-4dff-c0c9-14191ced657f"
      },
      "source": [
        "diamond[:,0] #sütunları getirir. "
      ],
      "execution_count": null,
      "outputs": [
        {
          "output_type": "execute_result",
          "data": {
            "text/plain": [
              "array([0.23, 0.21, 0.23, ..., 0.7 , 0.86, 0.75])"
            ]
          },
          "metadata": {},
          "execution_count": 78
        }
      ]
    },
    {
      "cell_type": "code",
      "metadata": {
        "id": "RmpoG-j_xDHD",
        "colab": {
          "base_uri": "https://localhost:8080/"
        },
        "outputId": "dadef53c-09ef-4a00-f3bd-0e66c5f64f19"
      },
      "source": [
        "diamond[0:2,0:3]"
      ],
      "execution_count": null,
      "outputs": [
        {
          "output_type": "execute_result",
          "data": {
            "text/plain": [
              "array([[2.30e-01, 6.15e+01, 3.26e+02],\n",
              "       [2.10e-01, 5.98e+01, 3.26e+02]])"
            ]
          },
          "metadata": {},
          "execution_count": 82
        }
      ]
    },
    {
      "cell_type": "code",
      "metadata": {
        "id": "DhVBFhXixDJM",
        "colab": {
          "base_uri": "https://localhost:8080/"
        },
        "outputId": "761e28b4-1977-471d-d4c5-9e35156964ff"
      },
      "source": [
        "diamond[0:2 , 1]"
      ],
      "execution_count": null,
      "outputs": [
        {
          "output_type": "execute_result",
          "data": {
            "text/plain": [
              "array([61.5, 59.8])"
            ]
          },
          "metadata": {},
          "execution_count": 83
        }
      ]
    },
    {
      "cell_type": "code",
      "metadata": {
        "id": "lblHSobIxDLj",
        "colab": {
          "base_uri": "https://localhost:8080/"
        },
        "outputId": "5b6fdf31-30ba-4c63-c090-d6ef93e08ff0"
      },
      "source": [
        "diamond[0,::2]"
      ],
      "execution_count": null,
      "outputs": [
        {
          "output_type": "execute_result",
          "data": {
            "text/plain": [
              "array([2.30e-01, 3.26e+02, 3.98e+00])"
            ]
          },
          "metadata": {},
          "execution_count": 87
        }
      ]
    },
    {
      "cell_type": "code",
      "metadata": {
        "id": "_9XX_PxQxDN8",
        "colab": {
          "base_uri": "https://localhost:8080/"
        },
        "outputId": "64e8a0c7-7409-4379-dde2-6788a1626397"
      },
      "source": [
        "carat = diamond[:,0].reshape(len(diamond),1)\n",
        "carat"
      ],
      "execution_count": null,
      "outputs": [
        {
          "output_type": "execute_result",
          "data": {
            "text/plain": [
              "array([[0.23],\n",
              "       [0.21],\n",
              "       [0.23],\n",
              "       ...,\n",
              "       [0.7 ],\n",
              "       [0.86],\n",
              "       [0.75]])"
            ]
          },
          "metadata": {},
          "execution_count": 93
        }
      ]
    },
    {
      "cell_type": "code",
      "metadata": {
        "id": "KAB256v0xDQb",
        "colab": {
          "base_uri": "https://localhost:8080/"
        },
        "outputId": "68d3c780-1d0c-4fd5-cce7-e11f1deae885"
      },
      "source": [
        "depth = diamond[:,1].reshape(len(diamond),1)\n",
        "depth"
      ],
      "execution_count": null,
      "outputs": [
        {
          "output_type": "execute_result",
          "data": {
            "text/plain": [
              "array([[61.5],\n",
              "       [59.8],\n",
              "       [56.9],\n",
              "       ...,\n",
              "       [62.8],\n",
              "       [61. ],\n",
              "       [62.2]])"
            ]
          },
          "metadata": {},
          "execution_count": 95
        }
      ]
    },
    {
      "cell_type": "code",
      "metadata": {
        "colab": {
          "base_uri": "https://localhost:8080/"
        },
        "id": "EjZKJ4Q6LTdZ",
        "outputId": "69e77022-aaba-45a3-fcca-1f4b03e8d56d"
      },
      "source": [
        "z = diamond[:,-1].reshape(len(diamond),1)\n",
        "z"
      ],
      "execution_count": null,
      "outputs": [
        {
          "output_type": "execute_result",
          "data": {
            "text/plain": [
              "array([[2.43],\n",
              "       [2.31],\n",
              "       [2.31],\n",
              "       ...,\n",
              "       [3.56],\n",
              "       [3.74],\n",
              "       [3.64]])"
            ]
          },
          "metadata": {},
          "execution_count": 99
        }
      ]
    },
    {
      "cell_type": "code",
      "metadata": {
        "id": "mI80UIsMxDVI",
        "colab": {
          "base_uri": "https://localhost:8080/"
        },
        "outputId": "64acbc20-0ce1-4683-98e5-24e998558947"
      },
      "source": [
        "np.concatenate([carat,depth],axis=1)"
      ],
      "execution_count": null,
      "outputs": [
        {
          "output_type": "execute_result",
          "data": {
            "text/plain": [
              "array([[ 0.23, 61.5 ],\n",
              "       [ 0.21, 59.8 ],\n",
              "       [ 0.23, 56.9 ],\n",
              "       ...,\n",
              "       [ 0.7 , 62.8 ],\n",
              "       [ 0.86, 61.  ],\n",
              "       [ 0.75, 62.2 ]])"
            ]
          },
          "metadata": {},
          "execution_count": 98
        }
      ]
    },
    {
      "cell_type": "code",
      "metadata": {
        "id": "Glql4scvxDXw",
        "colab": {
          "base_uri": "https://localhost:8080/"
        },
        "outputId": "f6f54075-adae-438a-8f95-1e0c812ef964"
      },
      "source": [
        "xyz = diamond[:,-3:].reshape(len(diamond),3)\n",
        "xyz"
      ],
      "execution_count": null,
      "outputs": [
        {
          "output_type": "execute_result",
          "data": {
            "text/plain": [
              "array([[3.95, 3.98, 2.43],\n",
              "       [3.89, 3.84, 2.31],\n",
              "       [4.05, 4.07, 2.31],\n",
              "       ...,\n",
              "       [5.66, 5.68, 3.56],\n",
              "       [6.15, 6.12, 3.74],\n",
              "       [5.83, 5.87, 3.64]])"
            ]
          },
          "metadata": {},
          "execution_count": 101
        }
      ]
    },
    {
      "cell_type": "code",
      "metadata": {
        "colab": {
          "base_uri": "https://localhost:8080/"
        },
        "id": "YBeC5a0TMfXX",
        "outputId": "a89a694a-1e18-4327-e829-08b7cbb1593d"
      },
      "source": [
        "xyz[:,0]"
      ],
      "execution_count": null,
      "outputs": [
        {
          "output_type": "execute_result",
          "data": {
            "text/plain": [
              "array([3.95, 3.89, 4.05, ..., 5.66, 6.15, 5.83])"
            ]
          },
          "metadata": {},
          "execution_count": 102
        }
      ]
    },
    {
      "cell_type": "code",
      "metadata": {
        "id": "vNNOQvUwxDaY",
        "colab": {
          "base_uri": "https://localhost:8080/"
        },
        "outputId": "f967b564-dd46-4169-dbdc-8c4256fe5744"
      },
      "source": [
        "volume = xyz[:,0]*xyz[:,1]*xyz[:,2]\n",
        "volume.reshape(len(volume),1)"
      ],
      "execution_count": null,
      "outputs": [
        {
          "output_type": "execute_result",
          "data": {
            "text/plain": [
              "array([[ 38.20203 ],\n",
              "       [ 34.505856],\n",
              "       [ 38.076885],\n",
              "       ...,\n",
              "       [114.449728],\n",
              "       [140.76612 ],\n",
              "       [124.568444]])"
            ]
          },
          "metadata": {},
          "execution_count": 105
        }
      ]
    },
    {
      "cell_type": "code",
      "metadata": {
        "id": "WhHvj_jsxDdP"
      },
      "source": [
        "a = np.arange(0,10)"
      ],
      "execution_count": null,
      "outputs": []
    },
    {
      "cell_type": "code",
      "metadata": {
        "id": "ya1ipoonxDfc",
        "colab": {
          "base_uri": "https://localhost:8080/"
        },
        "outputId": "21263cab-450f-4191-8a6b-a15cb3818b95"
      },
      "source": [
        "a[::2]"
      ],
      "execution_count": null,
      "outputs": [
        {
          "output_type": "execute_result",
          "data": {
            "text/plain": [
              "array([0, 2, 4, 6, 8])"
            ]
          },
          "metadata": {},
          "execution_count": 107
        }
      ]
    },
    {
      "cell_type": "code",
      "metadata": {
        "id": "aQ-0nMGcxDiA",
        "colab": {
          "base_uri": "https://localhost:8080/"
        },
        "outputId": "41806051-eea4-4427-cc9d-1735b43d491e"
      },
      "source": [
        "a[::]"
      ],
      "execution_count": null,
      "outputs": [
        {
          "output_type": "execute_result",
          "data": {
            "text/plain": [
              "array([0, 1, 2, 3, 4, 5, 6, 7, 8, 9])"
            ]
          },
          "metadata": {},
          "execution_count": 108
        }
      ]
    },
    {
      "cell_type": "code",
      "metadata": {
        "id": "IQymSg3JxDkC",
        "colab": {
          "base_uri": "https://localhost:8080/"
        },
        "outputId": "1ac9387c-86ea-4b67-8f88-8b947dcfabf6"
      },
      "source": [
        "b = np.arange(0,10).reshape(2,5) #.reshape matris oluşturur.\n",
        "b[:,:]"
      ],
      "execution_count": null,
      "outputs": [
        {
          "output_type": "execute_result",
          "data": {
            "text/plain": [
              "array([[0, 1, 2, 3, 4],\n",
              "       [5, 6, 7, 8, 9]])"
            ]
          },
          "metadata": {},
          "execution_count": 109
        }
      ]
    },
    {
      "cell_type": "code",
      "metadata": {
        "colab": {
          "base_uri": "https://localhost:8080/"
        },
        "id": "LnylhLsNSKAv",
        "outputId": "3277e5e7-d1cc-4033-d9c3-9fcfc9fd186d"
      },
      "source": [
        "b[0][1:4]"
      ],
      "execution_count": null,
      "outputs": [
        {
          "output_type": "execute_result",
          "data": {
            "text/plain": [
              "array([1, 2, 3])"
            ]
          },
          "metadata": {},
          "execution_count": 111
        }
      ]
    },
    {
      "cell_type": "code",
      "metadata": {
        "colab": {
          "base_uri": "https://localhost:8080/"
        },
        "id": "TlG0WvT1SKDO",
        "outputId": "23ce48de-7a85-43d4-88ce-138c086ef98a"
      },
      "source": [
        "c = np.arange(20,45).reshape(5,5)\n",
        "c"
      ],
      "execution_count": null,
      "outputs": [
        {
          "output_type": "execute_result",
          "data": {
            "text/plain": [
              "array([[20, 21, 22, 23, 24],\n",
              "       [25, 26, 27, 28, 29],\n",
              "       [30, 31, 32, 33, 34],\n",
              "       [35, 36, 37, 38, 39],\n",
              "       [40, 41, 42, 43, 44]])"
            ]
          },
          "metadata": {},
          "execution_count": 113
        }
      ]
    },
    {
      "cell_type": "code",
      "metadata": {
        "colab": {
          "base_uri": "https://localhost:8080/"
        },
        "id": "ROB_po8YSKFj",
        "outputId": "d499ef0e-9a01-4ceb-a3d1-27be650b750a"
      },
      "source": [
        "c[1:10,2:4]"
      ],
      "execution_count": null,
      "outputs": [
        {
          "output_type": "execute_result",
          "data": {
            "text/plain": [
              "array([[27, 28],\n",
              "       [32, 33],\n",
              "       [37, 38],\n",
              "       [42, 43]])"
            ]
          },
          "metadata": {},
          "execution_count": 116
        }
      ]
    },
    {
      "cell_type": "code",
      "metadata": {
        "id": "sXB8igNZSKIG"
      },
      "source": [
        "a = np.array([10,20,30,40])\n",
        "b = np.array([5,5,5,5])"
      ],
      "execution_count": null,
      "outputs": []
    },
    {
      "cell_type": "code",
      "metadata": {
        "colab": {
          "base_uri": "https://localhost:8080/"
        },
        "id": "RUW-er_USKJ_",
        "outputId": "7c2cde57-c813-4171-ec75-b2237d4c6c65"
      },
      "source": [
        "np.add(a,b)"
      ],
      "execution_count": null,
      "outputs": [
        {
          "output_type": "execute_result",
          "data": {
            "text/plain": [
              "array([15, 25, 35, 45])"
            ]
          },
          "metadata": {},
          "execution_count": 118
        }
      ]
    },
    {
      "cell_type": "code",
      "metadata": {
        "colab": {
          "base_uri": "https://localhost:8080/"
        },
        "id": "ps59a9UOSKMH",
        "outputId": "fc11d49b-eed7-4c67-892e-32b0f2940ea8"
      },
      "source": [
        "fancy = np.random.randint(0,100,10)\n",
        "fancy\n"
      ],
      "execution_count": null,
      "outputs": [
        {
          "output_type": "execute_result",
          "data": {
            "text/plain": [
              "array([39,  7, 27, 12, 87, 55, 43, 71, 17, 84])"
            ]
          },
          "metadata": {},
          "execution_count": 119
        }
      ]
    },
    {
      "cell_type": "code",
      "metadata": {
        "colab": {
          "base_uri": "https://localhost:8080/"
        },
        "id": "kvwz2D41SKPi",
        "outputId": "0f4838ec-1add-40dd-9c4b-2caf1cfd31d1"
      },
      "source": [
        "fancy[2:4]"
      ],
      "execution_count": null,
      "outputs": [
        {
          "output_type": "execute_result",
          "data": {
            "text/plain": [
              "array([27, 12])"
            ]
          },
          "metadata": {},
          "execution_count": 121
        }
      ]
    },
    {
      "cell_type": "code",
      "metadata": {
        "colab": {
          "base_uri": "https://localhost:8080/"
        },
        "id": "oZSdiLuKSKSV",
        "outputId": "e6a7a5cd-c23f-48df-a4e2-498b14fda947"
      },
      "source": [
        "fancy[[3,5,1,9]]"
      ],
      "execution_count": null,
      "outputs": [
        {
          "output_type": "execute_result",
          "data": {
            "text/plain": [
              "array([12, 55,  7, 84])"
            ]
          },
          "metadata": {},
          "execution_count": 122
        }
      ]
    },
    {
      "cell_type": "code",
      "metadata": {
        "colab": {
          "base_uri": "https://localhost:8080/"
        },
        "id": "6zjJza1kSKX9",
        "outputId": "c7126bd1-e3a4-49f8-a858-26b33942bfbd"
      },
      "source": [
        "fancy"
      ],
      "execution_count": null,
      "outputs": [
        {
          "output_type": "execute_result",
          "data": {
            "text/plain": [
              "array([39,  7, 27, 12, 87, 55, 43, 71, 17, 84])"
            ]
          },
          "metadata": {},
          "execution_count": 123
        }
      ]
    },
    {
      "cell_type": "code",
      "metadata": {
        "colab": {
          "base_uri": "https://localhost:8080/"
        },
        "id": "w-4b-bl5SKZ2",
        "outputId": "f88cea7c-c091-4543-afd0-28a4c1862306"
      },
      "source": [
        "fancy[0] = -5\n",
        "fancy"
      ],
      "execution_count": null,
      "outputs": [
        {
          "output_type": "execute_result",
          "data": {
            "text/plain": [
              "array([-5,  7, 27, 12, 87, 55, 43, 71, 17, 84])"
            ]
          },
          "metadata": {},
          "execution_count": 124
        }
      ]
    },
    {
      "cell_type": "code",
      "metadata": {
        "colab": {
          "base_uri": "https://localhost:8080/"
        },
        "id": "KGypdx9eSKbw",
        "outputId": "62acb10d-0b25-4996-ff1d-ba8b6260d853"
      },
      "source": [
        "f1 = fancy[[3,5,1,9]]\n",
        "f1"
      ],
      "execution_count": null,
      "outputs": [
        {
          "output_type": "execute_result",
          "data": {
            "text/plain": [
              "array([12, 55,  7, 84])"
            ]
          },
          "metadata": {},
          "execution_count": 125
        }
      ]
    },
    {
      "cell_type": "code",
      "metadata": {
        "id": "sVLaxfrtSKdl"
      },
      "source": [
        "f1[0] = -1"
      ],
      "execution_count": null,
      "outputs": []
    },
    {
      "cell_type": "code",
      "metadata": {
        "colab": {
          "base_uri": "https://localhost:8080/"
        },
        "id": "4wvlL1zGSKfh",
        "outputId": "66a4abbf-c750-42bf-a560-cc807d83509a"
      },
      "source": [
        "f1"
      ],
      "execution_count": null,
      "outputs": [
        {
          "output_type": "execute_result",
          "data": {
            "text/plain": [
              "array([-1, 55,  7, 84])"
            ]
          },
          "metadata": {},
          "execution_count": 127
        }
      ]
    },
    {
      "cell_type": "code",
      "metadata": {
        "colab": {
          "base_uri": "https://localhost:8080/"
        },
        "id": "AhymBzzjSKhz",
        "outputId": "c905f044-2a08-41ad-ae87-c9741b648f80"
      },
      "source": [
        "fancy"
      ],
      "execution_count": null,
      "outputs": [
        {
          "output_type": "execute_result",
          "data": {
            "text/plain": [
              "array([-5,  7, 27, 12, 87, 55, 43, 71, 17, 84])"
            ]
          },
          "metadata": {},
          "execution_count": 128
        }
      ]
    },
    {
      "cell_type": "code",
      "metadata": {
        "id": "51osw63uSKjw"
      },
      "source": [
        "fancy2 = fancy"
      ],
      "execution_count": null,
      "outputs": []
    },
    {
      "cell_type": "code",
      "metadata": {
        "colab": {
          "base_uri": "https://localhost:8080/"
        },
        "id": "KUy5QKh9SKlj",
        "outputId": "499ad65b-9114-41ee-be2e-897b2c95c0f9"
      },
      "source": [
        "fancy2"
      ],
      "execution_count": null,
      "outputs": [
        {
          "output_type": "execute_result",
          "data": {
            "text/plain": [
              "array([-5,  7, 27, 12, 87, 55, 43, 71, 17, 84])"
            ]
          },
          "metadata": {},
          "execution_count": 130
        }
      ]
    },
    {
      "cell_type": "code",
      "metadata": {
        "id": "k0SE242-SKnd"
      },
      "source": [
        "fancy2[1] = 111"
      ],
      "execution_count": null,
      "outputs": []
    },
    {
      "cell_type": "code",
      "metadata": {
        "colab": {
          "base_uri": "https://localhost:8080/"
        },
        "id": "GbIjDXrXSKpt",
        "outputId": "b2f9180d-d27d-4042-a2ed-d079a2b1c49b"
      },
      "source": [
        "fancy2"
      ],
      "execution_count": null,
      "outputs": [
        {
          "output_type": "execute_result",
          "data": {
            "text/plain": [
              "array([ -5, 111,  27,  12,  87,  55,  43,  71,  17,  84])"
            ]
          },
          "metadata": {},
          "execution_count": 132
        }
      ]
    },
    {
      "cell_type": "code",
      "metadata": {
        "colab": {
          "base_uri": "https://localhost:8080/"
        },
        "id": "ykiL4U7KSKrl",
        "outputId": "e2b29cce-1cc8-44ae-df58-3aca5c449022"
      },
      "source": [
        "fancy"
      ],
      "execution_count": null,
      "outputs": [
        {
          "output_type": "execute_result",
          "data": {
            "text/plain": [
              "array([ -5, 111,  27,  12,  87,  55,  43,  71,  17,  84])"
            ]
          },
          "metadata": {},
          "execution_count": 133
        }
      ]
    },
    {
      "cell_type": "code",
      "metadata": {
        "id": "GUZfkpoASKtg"
      },
      "source": [
        "fancy3 = fancy.copy()"
      ],
      "execution_count": null,
      "outputs": []
    },
    {
      "cell_type": "code",
      "metadata": {
        "id": "5tSSYieESKwr"
      },
      "source": [
        "fancy3[0]=9999"
      ],
      "execution_count": null,
      "outputs": []
    },
    {
      "cell_type": "code",
      "metadata": {
        "colab": {
          "base_uri": "https://localhost:8080/"
        },
        "id": "6oZolQrYSKyk",
        "outputId": "f641dc4f-b17c-416e-eda8-7b744d689b72"
      },
      "source": [
        "fancy3"
      ],
      "execution_count": null,
      "outputs": [
        {
          "output_type": "execute_result",
          "data": {
            "text/plain": [
              "array([9999,  111,   27,   12,   87,   55,   43,   71,   17,   84])"
            ]
          },
          "metadata": {},
          "execution_count": 138
        }
      ]
    },
    {
      "cell_type": "code",
      "metadata": {
        "id": "1XEWQV81xDmT",
        "colab": {
          "base_uri": "https://localhost:8080/"
        },
        "outputId": "c6e45b6d-afd1-4f6f-9f97-01d8a2b4f247"
      },
      "source": [
        "fancy"
      ],
      "execution_count": null,
      "outputs": [
        {
          "output_type": "execute_result",
          "data": {
            "text/plain": [
              "array([ -5, 111,  27,  12,  87,  55,  43,  71,  17,  84])"
            ]
          },
          "metadata": {},
          "execution_count": 139
        }
      ]
    },
    {
      "cell_type": "code",
      "metadata": {
        "id": "9-63wK3hxDo2"
      },
      "source": [
        "fancy[3:7] = 100"
      ],
      "execution_count": null,
      "outputs": []
    },
    {
      "cell_type": "code",
      "metadata": {
        "id": "p1-aN1adxDq-",
        "colab": {
          "base_uri": "https://localhost:8080/"
        },
        "outputId": "7ed19729-17a6-4cd5-e935-d5c41c6c3be6"
      },
      "source": [
        "fancy"
      ],
      "execution_count": null,
      "outputs": [
        {
          "output_type": "execute_result",
          "data": {
            "text/plain": [
              "array([ -5, 111,  27, 100, 100, 100, 100,  71,  17,  84])"
            ]
          },
          "metadata": {},
          "execution_count": 142
        }
      ]
    },
    {
      "cell_type": "code",
      "metadata": {
        "colab": {
          "base_uri": "https://localhost:8080/"
        },
        "id": "jZp69e_1X4wY",
        "outputId": "a52ca255-a7c9-4992-a872-d69d21385d0a"
      },
      "source": [
        "xyz"
      ],
      "execution_count": null,
      "outputs": [
        {
          "output_type": "execute_result",
          "data": {
            "text/plain": [
              "array([[3.95, 3.98, 2.43],\n",
              "       [3.89, 3.84, 2.31],\n",
              "       [4.05, 4.07, 2.31],\n",
              "       ...,\n",
              "       [5.66, 5.68, 3.56],\n",
              "       [6.15, 6.12, 3.74],\n",
              "       [5.83, 5.87, 3.64]])"
            ]
          },
          "metadata": {},
          "execution_count": 143
        }
      ]
    },
    {
      "cell_type": "code",
      "metadata": {
        "colab": {
          "base_uri": "https://localhost:8080/"
        },
        "id": "UYMVAAYgX4y7",
        "outputId": "545e13cc-401f-43b0-9dd1-a3aeaee43187"
      },
      "source": [
        "x = xyz[:8,0:3]\n",
        "x"
      ],
      "execution_count": null,
      "outputs": [
        {
          "output_type": "execute_result",
          "data": {
            "text/plain": [
              "array([[3.95, 3.98, 2.43],\n",
              "       [3.89, 3.84, 2.31],\n",
              "       [4.05, 4.07, 2.31],\n",
              "       [4.2 , 4.23, 2.63],\n",
              "       [4.34, 4.35, 2.75],\n",
              "       [3.94, 3.96, 2.48],\n",
              "       [3.95, 3.98, 2.47],\n",
              "       [4.07, 4.11, 2.53]])"
            ]
          },
          "metadata": {},
          "execution_count": 145
        }
      ]
    },
    {
      "cell_type": "code",
      "metadata": {
        "id": "r50RtZ54X42g"
      },
      "source": [
        "x[2:6,1:3] =0"
      ],
      "execution_count": null,
      "outputs": []
    },
    {
      "cell_type": "code",
      "metadata": {
        "colab": {
          "base_uri": "https://localhost:8080/"
        },
        "id": "sTpdR6pIX45S",
        "outputId": "45602211-a7e4-41a4-e7ce-e24ffb84f64d"
      },
      "source": [
        "x"
      ],
      "execution_count": null,
      "outputs": [
        {
          "output_type": "execute_result",
          "data": {
            "text/plain": [
              "array([[3.95, 3.98, 2.43],\n",
              "       [3.89, 3.84, 2.31],\n",
              "       [4.05, 0.  , 0.  ],\n",
              "       [4.2 , 0.  , 0.  ],\n",
              "       [4.34, 0.  , 0.  ],\n",
              "       [3.94, 0.  , 0.  ],\n",
              "       [3.95, 3.98, 2.47],\n",
              "       [4.07, 4.11, 2.53]])"
            ]
          },
          "metadata": {},
          "execution_count": 149
        }
      ]
    },
    {
      "cell_type": "code",
      "metadata": {
        "colab": {
          "base_uri": "https://localhost:8080/"
        },
        "id": "IA7QdSlcX472",
        "outputId": "0b396cfd-cdb4-491f-aa60-2bd15591733b"
      },
      "source": [
        "x[2:6,1:3] = [-1,5]\n",
        "x"
      ],
      "execution_count": null,
      "outputs": [
        {
          "output_type": "execute_result",
          "data": {
            "text/plain": [
              "array([[ 4.  ,  3.98,  2.43],\n",
              "       [ 4.  ,  3.84,  2.31],\n",
              "       [ 4.05, -1.  ,  5.  ],\n",
              "       [ 4.2 , -1.  ,  5.  ],\n",
              "       [ 4.34, -1.  ,  5.  ],\n",
              "       [ 3.94, -1.  ,  5.  ],\n",
              "       [ 3.95,  4.  ,  4.  ],\n",
              "       [ 4.07,  4.  ,  4.  ]])"
            ]
          },
          "metadata": {},
          "execution_count": 155
        }
      ]
    },
    {
      "cell_type": "code",
      "metadata": {
        "colab": {
          "base_uri": "https://localhost:8080/"
        },
        "id": "Dt1F8Yl5X5AN",
        "outputId": "a367293d-6616-41e1-88fc-b27be8b1dd24"
      },
      "source": [
        "np.sqrt(x)"
      ],
      "execution_count": null,
      "outputs": [
        {
          "output_type": "stream",
          "name": "stderr",
          "text": [
            "/usr/local/lib/python3.7/dist-packages/ipykernel_launcher.py:1: RuntimeWarning: invalid value encountered in sqrt\n",
            "  \"\"\"Entry point for launching an IPython kernel.\n"
          ]
        },
        {
          "output_type": "execute_result",
          "data": {
            "text/plain": [
              "array([[2.        , 1.99499373, 1.55884573],\n",
              "       [2.        , 1.95959179, 1.51986842],\n",
              "       [2.01246118,        nan, 2.23606798],\n",
              "       [2.04939015,        nan, 2.23606798],\n",
              "       [2.08326667,        nan, 2.23606798],\n",
              "       [1.98494332,        nan, 2.23606798],\n",
              "       [1.98746069, 2.        , 2.        ],\n",
              "       [2.0174241 , 2.        , 2.        ]])"
            ]
          },
          "metadata": {},
          "execution_count": 157
        }
      ]
    },
    {
      "cell_type": "code",
      "metadata": {
        "colab": {
          "base_uri": "https://localhost:8080/"
        },
        "id": "KZCpOg7CX5CO",
        "outputId": "87f634cb-e7f3-4ed5-d35b-153c7400f7df"
      },
      "source": [
        "np.power(x,-1/2)"
      ],
      "execution_count": null,
      "outputs": [
        {
          "output_type": "stream",
          "name": "stderr",
          "text": [
            "/usr/local/lib/python3.7/dist-packages/ipykernel_launcher.py:1: RuntimeWarning: invalid value encountered in power\n",
            "  \"\"\"Entry point for launching an IPython kernel.\n"
          ]
        },
        {
          "output_type": "execute_result",
          "data": {
            "text/plain": [
              "array([[0.5       , 0.50125471, 0.6415003 ],\n",
              "       [0.5       , 0.51031036, 0.65795169],\n",
              "       [0.49690399,        nan, 0.4472136 ],\n",
              "       [0.48795004,        nan, 0.4472136 ],\n",
              "       [0.48001536,        nan, 0.4472136 ],\n",
              "       [0.50379272,        nan, 0.4472136 ],\n",
              "       [0.50315461, 0.5       , 0.5       ],\n",
              "       [0.4956816 , 0.5       , 0.5       ]])"
            ]
          },
          "metadata": {},
          "execution_count": 159
        }
      ]
    },
    {
      "cell_type": "code",
      "metadata": {
        "colab": {
          "base_uri": "https://localhost:8080/"
        },
        "id": "8W-P905qX5E8",
        "outputId": "9713f897-30cb-49d2-f08b-a5a96b1ccba4"
      },
      "source": [
        "np.sin(np.pi/2)"
      ],
      "execution_count": null,
      "outputs": [
        {
          "output_type": "execute_result",
          "data": {
            "text/plain": [
              "1.0"
            ]
          },
          "metadata": {},
          "execution_count": 162
        }
      ]
    },
    {
      "cell_type": "code",
      "metadata": {
        "colab": {
          "base_uri": "https://localhost:8080/"
        },
        "id": "0uYNprwmX5Gz",
        "outputId": "1f8418db-64b9-4f14-fd5d-ba89e1cde57f"
      },
      "source": [
        "np.log(2.71)"
      ],
      "execution_count": null,
      "outputs": [
        {
          "output_type": "execute_result",
          "data": {
            "text/plain": [
              "0.9969486348916096"
            ]
          },
          "metadata": {},
          "execution_count": 163
        }
      ]
    },
    {
      "cell_type": "code",
      "metadata": {
        "colab": {
          "base_uri": "https://localhost:8080/"
        },
        "id": "kwW9WybJX5Ix",
        "outputId": "3e9db0e1-65c8-4792-8010-083e77ca47b0"
      },
      "source": [
        "arr = np.arange(0,10)\n",
        "np.mod(arr, 3)"
      ],
      "execution_count": null,
      "outputs": [
        {
          "output_type": "execute_result",
          "data": {
            "text/plain": [
              "array([0, 1, 2, 0, 1, 2, 0, 1, 2, 0])"
            ]
          },
          "metadata": {},
          "execution_count": 164
        }
      ]
    },
    {
      "cell_type": "code",
      "metadata": {
        "colab": {
          "base_uri": "https://localhost:8080/"
        },
        "id": "zOmJ0BJYX5La",
        "outputId": "7af9134c-fcee-410e-fc07-ddd549458652"
      },
      "source": [
        "arr2 = np.random.randint(0,100,50)\n",
        "arr2"
      ],
      "execution_count": null,
      "outputs": [
        {
          "output_type": "execute_result",
          "data": {
            "text/plain": [
              "array([37, 45, 15, 19, 21, 46, 40, 85, 97, 83, 92, 90, 12, 10, 85, 53, 91,\n",
              "       25,  6, 22, 23, 83, 70, 54, 97, 47, 81, 89, 38, 94, 67, 37, 58,  6,\n",
              "       68,  7, 88,  1, 16, 98, 32, 17, 60, 87, 55, 67, 66, 30, 34, 90])"
            ]
          },
          "metadata": {},
          "execution_count": 165
        }
      ]
    },
    {
      "cell_type": "code",
      "metadata": {
        "colab": {
          "base_uri": "https://localhost:8080/"
        },
        "id": "8n7wDOVVX5NX",
        "outputId": "bca36062-8e02-4c42-8a9c-38950ab300d0"
      },
      "source": [
        "arr2.mean()"
      ],
      "execution_count": null,
      "outputs": [
        {
          "output_type": "execute_result",
          "data": {
            "text/plain": [
              "52.68"
            ]
          },
          "metadata": {},
          "execution_count": 168
        }
      ]
    },
    {
      "cell_type": "code",
      "metadata": {
        "colab": {
          "base_uri": "https://localhost:8080/"
        },
        "id": "xBtOzeiVX5RE",
        "outputId": "a48b61c3-6fdc-4c16-b482-3191b81bc28d"
      },
      "source": [
        "arr2.std()"
      ],
      "execution_count": null,
      "outputs": [
        {
          "output_type": "execute_result",
          "data": {
            "text/plain": [
              "30.602901823193175"
            ]
          },
          "metadata": {},
          "execution_count": 169
        }
      ]
    },
    {
      "cell_type": "code",
      "metadata": {
        "colab": {
          "base_uri": "https://localhost:8080/"
        },
        "id": "GNpjga7RX5Vi",
        "outputId": "58ddc6ab-ba3a-464b-e9df-b827cfff58ef"
      },
      "source": [
        "arr2.min()"
      ],
      "execution_count": null,
      "outputs": [
        {
          "output_type": "execute_result",
          "data": {
            "text/plain": [
              "1"
            ]
          },
          "metadata": {},
          "execution_count": 170
        }
      ]
    },
    {
      "cell_type": "code",
      "metadata": {
        "colab": {
          "base_uri": "https://localhost:8080/"
        },
        "id": "Ivk0BjWcX5Xk",
        "outputId": "c42ed88a-277d-4015-8fa7-069da8d01897"
      },
      "source": [
        "arr2.sum()"
      ],
      "execution_count": null,
      "outputs": [
        {
          "output_type": "execute_result",
          "data": {
            "text/plain": [
              "2634"
            ]
          },
          "metadata": {},
          "execution_count": 171
        }
      ]
    },
    {
      "cell_type": "code",
      "metadata": {
        "colab": {
          "base_uri": "https://localhost:8080/"
        },
        "id": "VvhUtB-HX5Zj",
        "outputId": "9820028d-e639-4512-88fb-5cc829968d87"
      },
      "source": [
        "np.median(arr2)"
      ],
      "execution_count": null,
      "outputs": [
        {
          "output_type": "execute_result",
          "data": {
            "text/plain": [
              "53.5"
            ]
          },
          "metadata": {},
          "execution_count": 172
        }
      ]
    },
    {
      "cell_type": "code",
      "metadata": {
        "id": "_DQbX-uuX5bn"
      },
      "source": [
        "import numpy as np\n",
        "import pandas as pd\n",
        "import matplotlib.pyplot as plt\n",
        "import seaborn as sns\n",
        "%matplotlib inline"
      ],
      "execution_count": null,
      "outputs": []
    },
    {
      "cell_type": "code",
      "metadata": {
        "colab": {
          "base_uri": "https://localhost:8080/"
        },
        "id": "xnmEfBffMfmh",
        "outputId": "5ace24f5-a08a-48b8-e777-7f04ff80fe74"
      },
      "source": [
        "age = np.random.randint(25,45,50)\n",
        "age"
      ],
      "execution_count": null,
      "outputs": [
        {
          "output_type": "execute_result",
          "data": {
            "text/plain": [
              "array([41, 38, 25, 27, 33, 43, 43, 32, 39, 28, 28, 32, 37, 32, 31, 36, 28,\n",
              "       34, 37, 44, 38, 42, 42, 30, 32, 44, 39, 37, 37, 42, 41, 34, 38, 32,\n",
              "       42, 34, 35, 33, 43, 35, 44, 36, 26, 31, 31, 29, 44, 27, 25, 34])"
            ]
          },
          "metadata": {},
          "execution_count": 41
        }
      ]
    },
    {
      "cell_type": "code",
      "metadata": {
        "id": "aaF4-lc6MfqR"
      },
      "source": [
        "age[0:2] = -1\n",
        "age[2:4] = 99"
      ],
      "execution_count": null,
      "outputs": []
    },
    {
      "cell_type": "code",
      "metadata": {
        "colab": {
          "base_uri": "https://localhost:8080/"
        },
        "id": "lGcwkiB8MftL",
        "outputId": "28d245c5-6043-4162-c70e-a9937f6f1637"
      },
      "source": [
        "age"
      ],
      "execution_count": null,
      "outputs": [
        {
          "output_type": "execute_result",
          "data": {
            "text/plain": [
              "array([-1, -1, 99, 99, 33, 43, 43, 32, 39, 28, 28, 32, 37, 32, 31, 36, 28,\n",
              "       34, 37, 44, 38, 42, 42, 30, 32, 44, 39, 37, 37, 42, 41, 34, 38, 32,\n",
              "       42, 34, 35, 33, 43, 35, 44, 36, 26, 31, 31, 29, 44, 27, 25, 34])"
            ]
          },
          "metadata": {},
          "execution_count": 43
        }
      ]
    },
    {
      "cell_type": "code",
      "metadata": {
        "colab": {
          "base_uri": "https://localhost:8080/",
          "height": 265
        },
        "id": "yP3rsb76MfxE",
        "outputId": "923d5d15-bb75-48e3-a211-10495db62d77"
      },
      "source": [
        "plt.hist(age, bins=40)\n",
        "plt.show()"
      ],
      "execution_count": null,
      "outputs": [
        {
          "output_type": "display_data",
          "data": {
            "image/png": "[encoded data removed]",
            "text/plain": [
              "<Figure size 432x288 with 1 Axes>"
            ]
          },
          "metadata": {
            "needs_background": "light"
          }
        }
      ]
    },
    {
      "cell_type": "code",
      "metadata": {
        "colab": {
          "base_uri": "https://localhost:8080/",
          "height": 265
        },
        "id": "qIBbFC0DMf0Q",
        "outputId": "fc84f88a-f06f-4ace-cf99-b700bf6e15cf"
      },
      "source": [
        "plt.boxplot(age)\n",
        "plt.show()"
      ],
      "execution_count": null,
      "outputs": [
        {
          "output_type": "display_data",
          "data": {
            "image/png": "[encoded data removed]",
            "text/plain": [
              "<Figure size 432x288 with 1 Axes>"
            ]
          },
          "metadata": {
            "needs_background": "light"
          }
        }
      ]
    },
    {
      "cell_type": "code",
      "metadata": {
        "colab": {
          "base_uri": "https://localhost:8080/"
        },
        "id": "nDx8TC_SMf3R",
        "outputId": "b1c093b1-abae-459a-f305-8b939e38c287"
      },
      "source": [
        "age[age<25]"
      ],
      "execution_count": null,
      "outputs": [
        {
          "output_type": "execute_result",
          "data": {
            "text/plain": [
              "array([-1, -1])"
            ]
          },
          "metadata": {},
          "execution_count": 46
        }
      ]
    },
    {
      "cell_type": "code",
      "metadata": {
        "colab": {
          "base_uri": "https://localhost:8080/"
        },
        "id": "IXGAb2NZMf6U",
        "outputId": "6825dc71-9514-4c6a-9d6c-e212528d3ef3"
      },
      "source": [
        "age[age>50]"
      ],
      "execution_count": null,
      "outputs": [
        {
          "output_type": "execute_result",
          "data": {
            "text/plain": [
              "array([99, 99])"
            ]
          },
          "metadata": {},
          "execution_count": 47
        }
      ]
    },
    {
      "cell_type": "code",
      "metadata": {
        "colab": {
          "base_uri": "https://localhost:8080/"
        },
        "id": "Ccg2lvYHT_Ay",
        "outputId": "7325a918-61aa-416b-da76-2811c26c4232"
      },
      "source": [
        "for i in range(len(age)):\n",
        "  if age[i]<25:\n",
        "    print(age[i])"
      ],
      "execution_count": null,
      "outputs": [
        {
          "output_type": "stream",
          "name": "stdout",
          "text": [
            "-1\n",
            "-1\n"
          ]
        }
      ]
    },
    {
      "cell_type": "code",
      "metadata": {
        "colab": {
          "base_uri": "https://localhost:8080/"
        },
        "id": "kGCmvLlDMgEL",
        "outputId": "0bd1bfb3-6c34-44c6-ecc9-ff437ff0c894"
      },
      "source": [
        "age>50"
      ],
      "execution_count": null,
      "outputs": [
        {
          "output_type": "execute_result",
          "data": {
            "text/plain": [
              "array([False, False,  True,  True, False, False, False, False, False,\n",
              "       False, False, False, False, False, False, False, False, False,\n",
              "       False, False, False, False, False, False, False, False, False,\n",
              "       False, False, False, False, False, False, False, False, False,\n",
              "       False, False, False, False, False, False, False, False, False,\n",
              "       False, False, False, False, False])"
            ]
          },
          "metadata": {},
          "execution_count": 49
        }
      ]
    },
    {
      "cell_type": "code",
      "metadata": {
        "colab": {
          "base_uri": "https://localhost:8080/"
        },
        "id": "IEC-YMIfMgIO",
        "outputId": "61296893-482a-40f5-875c-1e97f0453ec3"
      },
      "source": [
        "age[age>50] = age.mean()\n",
        "age"
      ],
      "execution_count": null,
      "outputs": [
        {
          "output_type": "execute_result",
          "data": {
            "text/plain": [
              "array([-1, -1, 36, 36, 33, 43, 43, 32, 39, 28, 28, 32, 37, 32, 31, 36, 28,\n",
              "       34, 37, 44, 38, 42, 42, 30, 32, 44, 39, 37, 37, 42, 41, 34, 38, 32,\n",
              "       42, 34, 35, 33, 43, 35, 44, 36, 26, 31, 31, 29, 44, 27, 25, 34])"
            ]
          },
          "metadata": {},
          "execution_count": 50
        }
      ]
    },
    {
      "cell_type": "code",
      "metadata": {
        "colab": {
          "base_uri": "https://localhost:8080/"
        },
        "id": "DNBV1lMNTPo0",
        "outputId": "8c275e91-3a28-46b1-d0b9-1db8ad43d838"
      },
      "source": [
        "age[age<25] = age.mean()\n",
        "age"
      ],
      "execution_count": null,
      "outputs": [
        {
          "output_type": "execute_result",
          "data": {
            "text/plain": [
              "array([34, 34, 36, 36, 33, 43, 43, 32, 39, 28, 28, 32, 37, 32, 31, 36, 28,\n",
              "       34, 37, 44, 38, 42, 42, 30, 32, 44, 39, 37, 37, 42, 41, 34, 38, 32,\n",
              "       42, 34, 35, 33, 43, 35, 44, 36, 26, 31, 31, 29, 44, 27, 25, 34])"
            ]
          },
          "metadata": {},
          "execution_count": 51
        }
      ]
    },
    {
      "cell_type": "code",
      "metadata": {
        "colab": {
          "base_uri": "https://localhost:8080/"
        },
        "id": "9gl76wqLMgTt",
        "outputId": "a400767c-44fb-4e25-e4ea-9122d6925e43"
      },
      "source": [
        "age[0:2] = -1\n",
        "age[2:4] = 99\n",
        "\n",
        "age[(age<25) | (age>50)] = age.mean()\n",
        "age"
      ],
      "execution_count": null,
      "outputs": [
        {
          "output_type": "execute_result",
          "data": {
            "text/plain": [
              "array([36, 36, 36, 36, 33, 43, 43, 32, 39, 28, 28, 32, 37, 32, 31, 36, 28,\n",
              "       34, 37, 44, 38, 42, 42, 30, 32, 44, 39, 37, 37, 42, 41, 34, 38, 32,\n",
              "       42, 34, 35, 33, 43, 35, 44, 36, 26, 31, 31, 29, 44, 27, 25, 34])"
            ]
          },
          "metadata": {},
          "execution_count": 53
        }
      ]
    },
    {
      "cell_type": "code",
      "metadata": {
        "colab": {
          "base_uri": "https://localhost:8080/"
        },
        "id": "IbW8D4TQMgXL",
        "outputId": "8bab4f32-ed75-4bb4-e62a-efb9fe5d19d5"
      },
      "source": [
        "age.sort()\n",
        "age"
      ],
      "execution_count": null,
      "outputs": [
        {
          "output_type": "execute_result",
          "data": {
            "text/plain": [
              "array([25, 26, 27, 28, 28, 28, 29, 30, 31, 31, 31, 32, 32, 32, 32, 32, 33,\n",
              "       33, 34, 34, 34, 34, 35, 35, 36, 36, 36, 36, 36, 36, 37, 37, 37, 37,\n",
              "       38, 38, 39, 39, 41, 42, 42, 42, 42, 43, 43, 43, 44, 44, 44, 44])"
            ]
          },
          "metadata": {},
          "execution_count": 55
        }
      ]
    },
    {
      "cell_type": "code",
      "metadata": {
        "colab": {
          "base_uri": "https://localhost:8080/"
        },
        "id": "kkH0y9dMMgaJ",
        "outputId": "275bca5a-32c4-4528-9b08-1362ba09476c"
      },
      "source": [
        "age[::-1]"
      ],
      "execution_count": null,
      "outputs": [
        {
          "output_type": "execute_result",
          "data": {
            "text/plain": [
              "array([44, 44, 44, 44, 43, 43, 43, 42, 42, 42, 42, 41, 39, 39, 38, 38, 37,\n",
              "       37, 37, 37, 36, 36, 36, 36, 36, 36, 35, 35, 34, 34, 34, 34, 33, 33,\n",
              "       32, 32, 32, 32, 32, 31, 31, 31, 30, 29, 28, 28, 28, 27, 26, 25])"
            ]
          },
          "metadata": {},
          "execution_count": 57
        }
      ]
    },
    {
      "cell_type": "code",
      "metadata": {
        "id": "RdUC5LRvea1J"
      },
      "source": [
        "import pandas as pd"
      ],
      "execution_count": null,
      "outputs": []
    },
    {
      "cell_type": "code",
      "metadata": {
        "colab": {
          "base_uri": "https://localhost:8080/"
        },
        "id": "Rxx8ZHr8MghF",
        "outputId": "a0c038ed-88e7-47d3-be05-31154b670947"
      },
      "source": [
        "serr = pd.Series([11,21,13,41,15,61])\n",
        "serr"
      ],
      "execution_count": null,
      "outputs": [
        {
          "output_type": "execute_result",
          "data": {
            "text/plain": [
              "0    11\n",
              "1    21\n",
              "2    13\n",
              "3    41\n",
              "4    15\n",
              "5    61\n",
              "dtype: int64"
            ]
          },
          "metadata": {},
          "execution_count": 73
        }
      ]
    },
    {
      "cell_type": "code",
      "metadata": {
        "colab": {
          "base_uri": "https://localhost:8080/"
        },
        "id": "J3LqeD6IMgkr",
        "outputId": "a4dfe913-d52b-4002-bca1-ef3eb2d35035"
      },
      "source": [
        "type(serr)"
      ],
      "execution_count": null,
      "outputs": [
        {
          "output_type": "execute_result",
          "data": {
            "text/plain": [
              "pandas.core.series.Series"
            ]
          },
          "metadata": {},
          "execution_count": 74
        }
      ]
    },
    {
      "cell_type": "code",
      "metadata": {
        "colab": {
          "base_uri": "https://localhost:8080/"
        },
        "id": "wEyCvH_FMgpA",
        "outputId": "71447882-2ec1-4266-c180-99169862fbc0"
      },
      "source": [
        "serr.size"
      ],
      "execution_count": null,
      "outputs": [
        {
          "output_type": "execute_result",
          "data": {
            "text/plain": [
              "6"
            ]
          },
          "metadata": {},
          "execution_count": 75
        }
      ]
    },
    {
      "cell_type": "code",
      "metadata": {
        "colab": {
          "base_uri": "https://localhost:8080/"
        },
        "id": "AbNc6SjHMguK",
        "outputId": "617def4a-0145-45cd-e9d5-9ed008f552ff"
      },
      "source": [
        "serr.values"
      ],
      "execution_count": null,
      "outputs": [
        {
          "output_type": "execute_result",
          "data": {
            "text/plain": [
              "array([11, 21, 13, 41, 15, 61])"
            ]
          },
          "metadata": {},
          "execution_count": 76
        }
      ]
    },
    {
      "cell_type": "code",
      "metadata": {
        "colab": {
          "base_uri": "https://localhost:8080/"
        },
        "id": "8tJSB1jLMgyD",
        "outputId": "c6a438c0-f76e-473f-a4d2-50014fb03711"
      },
      "source": [
        "serr.ndim"
      ],
      "execution_count": null,
      "outputs": [
        {
          "output_type": "execute_result",
          "data": {
            "text/plain": [
              "1"
            ]
          },
          "metadata": {},
          "execution_count": 77
        }
      ]
    },
    {
      "cell_type": "code",
      "metadata": {
        "colab": {
          "base_uri": "https://localhost:8080/"
        },
        "id": "iN1ABSycMg1r",
        "outputId": "4e3b72d1-ff9f-45df-b124-70cafc3925d2"
      },
      "source": [
        "[i for i in serr.values]"
      ],
      "execution_count": null,
      "outputs": [
        {
          "output_type": "execute_result",
          "data": {
            "text/plain": [
              "[11, 21, 13, 41, 15, 61]"
            ]
          },
          "metadata": {},
          "execution_count": 78
        }
      ]
    },
    {
      "cell_type": "code",
      "metadata": {
        "colab": {
          "base_uri": "https://localhost:8080/"
        },
        "id": "ZAoQtYrcMg5E",
        "outputId": "ba030fe2-fc36-4f1c-8f64-ff9b5d6b777b"
      },
      "source": [
        "serr2 = pd.Series([11,21,13,41,15,61,11,21,13,41,15,61,11,21,13,41,15,61])\n",
        "serr2"
      ],
      "execution_count": null,
      "outputs": [
        {
          "output_type": "execute_result",
          "data": {
            "text/plain": [
              "0     11\n",
              "1     21\n",
              "2     13\n",
              "3     41\n",
              "4     15\n",
              "5     61\n",
              "6     11\n",
              "7     21\n",
              "8     13\n",
              "9     41\n",
              "10    15\n",
              "11    61\n",
              "12    11\n",
              "13    21\n",
              "14    13\n",
              "15    41\n",
              "16    15\n",
              "17    61\n",
              "dtype: int64"
            ]
          },
          "metadata": {},
          "execution_count": 79
        }
      ]
    },
    {
      "cell_type": "code",
      "metadata": {
        "colab": {
          "base_uri": "https://localhost:8080/"
        },
        "id": "4avhUBs5Mg8T",
        "outputId": "1bd4c050-38d2-4a5e-b06d-5fe0fa9de309"
      },
      "source": [
        "serr2.head(10)"
      ],
      "execution_count": null,
      "outputs": [
        {
          "output_type": "execute_result",
          "data": {
            "text/plain": [
              "0    11\n",
              "1    21\n",
              "2    13\n",
              "3    41\n",
              "4    15\n",
              "5    61\n",
              "6    11\n",
              "7    21\n",
              "8    13\n",
              "9    41\n",
              "dtype: int64"
            ]
          },
          "metadata": {},
          "execution_count": 80
        }
      ]
    },
    {
      "cell_type": "code",
      "metadata": {
        "colab": {
          "base_uri": "https://localhost:8080/"
        },
        "id": "tJPWQCdFfs4v",
        "outputId": "99d4dbf7-c529-419e-d324-7a553cf9a0f4"
      },
      "source": [
        "serr.tail(3)"
      ],
      "execution_count": null,
      "outputs": [
        {
          "output_type": "execute_result",
          "data": {
            "text/plain": [
              "3    41\n",
              "4    15\n",
              "5    61\n",
              "dtype: int64"
            ]
          },
          "metadata": {},
          "execution_count": 84
        }
      ]
    },
    {
      "cell_type": "code",
      "metadata": {
        "colab": {
          "base_uri": "https://localhost:8080/"
        },
        "id": "VEahHqvsfs8r",
        "outputId": "d6fd2bf8-0a03-45b4-d735-3c501b855baf"
      },
      "source": [
        "list([\"clarusway\"])"
      ],
      "execution_count": null,
      "outputs": [
        {
          "output_type": "execute_result",
          "data": {
            "text/plain": [
              "['clarusway']"
            ]
          },
          "metadata": {},
          "execution_count": 86
        }
      ]
    },
    {
      "cell_type": "code",
      "metadata": {
        "colab": {
          "base_uri": "https://localhost:8080/"
        },
        "id": "cAwCl-3HftAd",
        "outputId": "739e1883-2ce8-4f2c-b3ab-17786b203885"
      },
      "source": [
        "pd.Series(list(\"clarusway\"))"
      ],
      "execution_count": null,
      "outputs": [
        {
          "output_type": "execute_result",
          "data": {
            "text/plain": [
              "0    c\n",
              "1    l\n",
              "2    a\n",
              "3    r\n",
              "4    u\n",
              "5    s\n",
              "6    w\n",
              "7    a\n",
              "8    y\n",
              "dtype: object"
            ]
          },
          "metadata": {},
          "execution_count": 89
        }
      ]
    },
    {
      "cell_type": "code",
      "metadata": {
        "colab": {
          "base_uri": "https://localhost:8080/"
        },
        "id": "91pGai3AftFW",
        "outputId": "9c651ab4-d5e3-439f-d4dd-0fe8bf686973"
      },
      "source": [
        "data = [\"paris\", \"london\", \"ankara\"]\n",
        "index = [\"x\", \"y\", \"z\"]\n",
        "\n",
        "pd.Series(data, index)"
      ],
      "execution_count": null,
      "outputs": [
        {
          "output_type": "execute_result",
          "data": {
            "text/plain": [
              "x     paris\n",
              "y    london\n",
              "z    ankara\n",
              "dtype: object"
            ]
          },
          "metadata": {},
          "execution_count": 90
        }
      ]
    },
    {
      "cell_type": "code",
      "metadata": {
        "colab": {
          "base_uri": "https://localhost:8080/"
        },
        "id": "QpSccaA6ftJf",
        "outputId": "7e8dec6b-cc00-401d-a7f4-c0a62b4f9162"
      },
      "source": [
        "score = [60, 70, 90, 85, 99.5]\n",
        "index = [\"C\", \"D\",\"E\", \"A\", \"B\"]\n",
        "pd.Series(score, index)"
      ],
      "execution_count": null,
      "outputs": [
        {
          "output_type": "execute_result",
          "data": {
            "text/plain": [
              "C    60.0\n",
              "D    70.0\n",
              "E    90.0\n",
              "A    85.0\n",
              "B    99.5\n",
              "dtype: float64"
            ]
          },
          "metadata": {},
          "execution_count": 93
        }
      ]
    },
    {
      "cell_type": "code",
      "metadata": {
        "colab": {
          "base_uri": "https://localhost:8080/"
        },
        "id": "-hWjX-YeftN5",
        "outputId": "278d53f1-4463-4ae2-e356-5ec19cd52e39"
      },
      "source": [
        "dic = {\"C\":10, \"D\":20,\"E\":-30, \"A\":99, \"B\":1.1 }\n",
        "\n",
        "pd.Series(dic)"
      ],
      "execution_count": null,
      "outputs": [
        {
          "output_type": "execute_result",
          "data": {
            "text/plain": [
              "C    10.0\n",
              "D    20.0\n",
              "E   -30.0\n",
              "A    99.0\n",
              "B     1.1\n",
              "dtype: float64"
            ]
          },
          "metadata": {},
          "execution_count": 95
        }
      ]
    },
    {
      "cell_type": "code",
      "metadata": {
        "colab": {
          "base_uri": "https://localhost:8080/"
        },
        "id": "K_jRXRKHftTs",
        "outputId": "f0892045-8fb4-405d-f651-b4c5d5d15e99"
      },
      "source": [
        "a = set ([3,2,45,1,3,4,32,4,5,5,4]) #aynı eleman birden fazla kullanılmaması için yazılır.\n",
        "a"
      ],
      "execution_count": null,
      "outputs": [
        {
          "output_type": "execute_result",
          "data": {
            "text/plain": [
              "{1, 2, 3, 4, 5, 32, 45}"
            ]
          },
          "metadata": {},
          "execution_count": 98
        }
      ]
    },
    {
      "cell_type": "code",
      "metadata": {
        "colab": {
          "base_uri": "https://localhost:8080/"
        },
        "id": "4AB1Za9dftW7",
        "outputId": "c2a81725-658a-4482-befe-108c0942cf3a"
      },
      "source": [
        "pd.Series(list(a))"
      ],
      "execution_count": null,
      "outputs": [
        {
          "output_type": "execute_result",
          "data": {
            "text/plain": [
              "0    32\n",
              "1     1\n",
              "2     2\n",
              "3     3\n",
              "4     4\n",
              "5     5\n",
              "6    45\n",
              "dtype: int64"
            ]
          },
          "metadata": {},
          "execution_count": 100
        }
      ]
    },
    {
      "cell_type": "code",
      "metadata": {
        "id": "30Y9nz4Rftag"
      },
      "source": [
        "ser1 = pd.Series([1,2,3,4], index = ['USA', 'Germany','USSR', 'Japan'])\n",
        "ser2 = pd.Series([1,2,5,4], index = ['USA', 'Germany','Italy', 'Japan'])"
      ],
      "execution_count": null,
      "outputs": []
    },
    {
      "cell_type": "code",
      "metadata": {
        "colab": {
          "base_uri": "https://localhost:8080/"
        },
        "id": "OdJQ1OUNfteH",
        "outputId": "7f5eeb94-b35d-431a-e9fb-3e69d17d287a"
      },
      "source": [
        "ser1"
      ],
      "execution_count": null,
      "outputs": [
        {
          "output_type": "execute_result",
          "data": {
            "text/plain": [
              "USA        1\n",
              "Germany    2\n",
              "USSR       3\n",
              "Japan      4\n",
              "dtype: int64"
            ]
          },
          "metadata": {},
          "execution_count": 102
        }
      ]
    },
    {
      "cell_type": "code",
      "metadata": {
        "colab": {
          "base_uri": "https://localhost:8080/"
        },
        "id": "HVIQNfDuftlp",
        "outputId": "72064777-3cb4-4494-fb45-62971f79b820"
      },
      "source": [
        "ser1.index"
      ],
      "execution_count": null,
      "outputs": [
        {
          "output_type": "execute_result",
          "data": {
            "text/plain": [
              "Index(['USA', 'Germany', 'USSR', 'Japan'], dtype='object')"
            ]
          },
          "metadata": {},
          "execution_count": 104
        }
      ]
    },
    {
      "cell_type": "code",
      "metadata": {
        "colab": {
          "base_uri": "https://localhost:8080/"
        },
        "id": "yKZ0Ab_Rftqm",
        "outputId": "81b58b50-8c14-47e0-93e3-a27bae713ea3"
      },
      "source": [
        "ser1.values"
      ],
      "execution_count": null,
      "outputs": [
        {
          "output_type": "execute_result",
          "data": {
            "text/plain": [
              "array([1, 2, 3, 4])"
            ]
          },
          "metadata": {},
          "execution_count": 106
        }
      ]
    },
    {
      "cell_type": "code",
      "metadata": {
        "colab": {
          "base_uri": "https://localhost:8080/"
        },
        "id": "mtyT0BnCftvZ",
        "outputId": "ce400156-cefc-4ae9-983e-fb811ddf33c7"
      },
      "source": [
        "ser1.sort_index()"
      ],
      "execution_count": null,
      "outputs": [
        {
          "output_type": "execute_result",
          "data": {
            "text/plain": [
              "Germany    2\n",
              "Japan      4\n",
              "USA        1\n",
              "USSR       3\n",
              "dtype: int64"
            ]
          },
          "metadata": {},
          "execution_count": 108
        }
      ]
    },
    {
      "cell_type": "code",
      "metadata": {
        "colab": {
          "base_uri": "https://localhost:8080/"
        },
        "id": "aqg9sckcftzz",
        "outputId": "69fcecfd-b62c-488d-dcfa-cbc836669649"
      },
      "source": [
        "ser1.sort_values ()"
      ],
      "execution_count": null,
      "outputs": [
        {
          "output_type": "execute_result",
          "data": {
            "text/plain": [
              "USA        1\n",
              "Germany    2\n",
              "USSR       3\n",
              "Japan      4\n",
              "dtype: int64"
            ]
          },
          "metadata": {},
          "execution_count": 111
        }
      ]
    },
    {
      "cell_type": "code",
      "metadata": {
        "colab": {
          "base_uri": "https://localhost:8080/"
        },
        "id": "t1vM2t2Lft4C",
        "outputId": "0e46c74d-c91f-4373-c3b5-f341948e34df"
      },
      "source": [
        "ser2.sort_values()"
      ],
      "execution_count": null,
      "outputs": [
        {
          "output_type": "execute_result",
          "data": {
            "text/plain": [
              "USA        1\n",
              "Germany    2\n",
              "Japan      4\n",
              "Italy      5\n",
              "dtype: int64"
            ]
          },
          "metadata": {},
          "execution_count": 110
        }
      ]
    },
    {
      "cell_type": "code",
      "metadata": {
        "colab": {
          "base_uri": "https://localhost:8080/"
        },
        "id": "PMVcZxLlft8x",
        "outputId": "60263998-3427-42da-d39a-ccf755cb03a4"
      },
      "source": [
        "ser1[\"Germany\"]"
      ],
      "execution_count": null,
      "outputs": [
        {
          "output_type": "execute_result",
          "data": {
            "text/plain": [
              "2"
            ]
          },
          "metadata": {},
          "execution_count": 112
        }
      ]
    },
    {
      "cell_type": "code",
      "metadata": {
        "colab": {
          "base_uri": "https://localhost:8080/"
        },
        "id": "cbVMvSXwfuAK",
        "outputId": "bf1d1b2f-9bfd-49db-fac2-cf1e18f1176a"
      },
      "source": [
        "ser1[\"Japan\"]"
      ],
      "execution_count": null,
      "outputs": [
        {
          "output_type": "execute_result",
          "data": {
            "text/plain": [
              "4"
            ]
          },
          "metadata": {},
          "execution_count": 113
        }
      ]
    },
    {
      "cell_type": "code",
      "metadata": {
        "colab": {
          "base_uri": "https://localhost:8080/"
        },
        "id": "jUDuHrqAfuEG",
        "outputId": "072bef65-79b2-4a93-d165-fa0e84e294cb"
      },
      "source": [
        "ser1[[\"Japan\", \"Germany\"]]"
      ],
      "execution_count": null,
      "outputs": [
        {
          "output_type": "execute_result",
          "data": {
            "text/plain": [
              "Japan      4\n",
              "Germany    2\n",
              "dtype: int64"
            ]
          },
          "metadata": {},
          "execution_count": 115
        }
      ]
    },
    {
      "cell_type": "code",
      "metadata": {
        "colab": {
          "base_uri": "https://localhost:8080/"
        },
        "id": "we6vdyf6fuH6",
        "outputId": "6b072b6e-c0d8-475e-d3ff-dda99abaae99"
      },
      "source": [
        "ser1.Japan"
      ],
      "execution_count": null,
      "outputs": [
        {
          "output_type": "execute_result",
          "data": {
            "text/plain": [
              "4"
            ]
          },
          "metadata": {},
          "execution_count": 116
        }
      ]
    },
    {
      "cell_type": "code",
      "metadata": {
        "colab": {
          "base_uri": "https://localhost:8080/"
        },
        "id": "1lffralUfuLX",
        "outputId": "ede51ec7-6277-418e-a808-f65e65845aee"
      },
      "source": [
        "pd.Series(ser1 + ser2)"
      ],
      "execution_count": null,
      "outputs": [
        {
          "output_type": "execute_result",
          "data": {
            "text/plain": [
              "Germany    4.0\n",
              "Italy      NaN\n",
              "Japan      8.0\n",
              "USA        2.0\n",
              "USSR       NaN\n",
              "dtype: float64"
            ]
          },
          "metadata": {},
          "execution_count": 120
        }
      ]
    },
    {
      "cell_type": "code",
      "metadata": {
        "colab": {
          "base_uri": "https://localhost:8080/"
        },
        "id": "2ojMm4YofuPX",
        "outputId": "9f592fde-b6c2-4149-8df6-91a426dec236"
      },
      "source": [
        "panser = pd.Series(data = [121, 200, 150, 99], index = [\"terry\", \"micheal\", \"orion\", \"jason\"])\n",
        "panser"
      ],
      "execution_count": null,
      "outputs": [
        {
          "output_type": "execute_result",
          "data": {
            "text/plain": [
              "terry      121\n",
              "micheal    200\n",
              "orion      150\n",
              "jason       99\n",
              "dtype: int64"
            ]
          },
          "metadata": {},
          "execution_count": 118
        }
      ]
    },
    {
      "cell_type": "code",
      "metadata": {
        "colab": {
          "base_uri": "https://localhost:8080/"
        },
        "id": "MyP0lH5AfuSq",
        "outputId": "f4a2fe8e-d311-4f84-e323-ab57ed6852fa"
      },
      "source": [
        "panser.jason"
      ],
      "execution_count": null,
      "outputs": [
        {
          "output_type": "execute_result",
          "data": {
            "text/plain": [
              "99"
            ]
          },
          "metadata": {},
          "execution_count": 121
        }
      ]
    },
    {
      "cell_type": "code",
      "metadata": {
        "colab": {
          "base_uri": "https://localhost:8080/"
        },
        "id": "xAjzjTO2MhHo",
        "outputId": "52b51639-d1cd-4071-a50b-096f373cea0a"
      },
      "source": [
        "panser[\"jason\"]"
      ],
      "execution_count": null,
      "outputs": [
        {
          "output_type": "execute_result",
          "data": {
            "text/plain": [
              "99"
            ]
          },
          "metadata": {},
          "execution_count": 122
        }
      ]
    },
    {
      "cell_type": "code",
      "metadata": {
        "colab": {
          "base_uri": "https://localhost:8080/"
        },
        "id": "JrCe5MKyMhOf",
        "outputId": "0c094295-3faa-42e8-8c13-22ae32a8c4bd"
      },
      "source": [
        "panser[\"orion\":\"jason\"]"
      ],
      "execution_count": null,
      "outputs": [
        {
          "output_type": "execute_result",
          "data": {
            "text/plain": [
              "orion    150\n",
              "jason     99\n",
              "dtype: int64"
            ]
          },
          "metadata": {},
          "execution_count": 128
        }
      ]
    },
    {
      "cell_type": "code",
      "metadata": {
        "colab": {
          "base_uri": "https://localhost:8080/"
        },
        "id": "571arUkoMhRq",
        "outputId": "55299202-6827-4c89-d962-ef19bbd966f2"
      },
      "source": [
        "panser[2:5]"
      ],
      "execution_count": null,
      "outputs": [
        {
          "output_type": "execute_result",
          "data": {
            "text/plain": [
              "orion    150\n",
              "jason     99\n",
              "dtype: int64"
            ]
          },
          "metadata": {},
          "execution_count": 130
        }
      ]
    },
    {
      "cell_type": "code",
      "metadata": {
        "colab": {
          "base_uri": "https://localhost:8080/"
        },
        "id": "ybU_6WnfMhU8",
        "outputId": "26a512a0-6081-4920-b9ee-f568a6f4d354"
      },
      "source": [
        "panser.keys()"
      ],
      "execution_count": null,
      "outputs": [
        {
          "output_type": "execute_result",
          "data": {
            "text/plain": [
              "Index(['terry', 'micheal', 'orion', 'jason'], dtype='object')"
            ]
          },
          "metadata": {},
          "execution_count": 131
        }
      ]
    },
    {
      "cell_type": "code",
      "metadata": {
        "colab": {
          "base_uri": "https://localhost:8080/"
        },
        "id": "vF55IlqjMhYd",
        "outputId": "0a965585-7108-4f71-8628-384d371812af"
      },
      "source": [
        "panser.values"
      ],
      "execution_count": null,
      "outputs": [
        {
          "output_type": "execute_result",
          "data": {
            "text/plain": [
              "array([121, 200, 150,  99])"
            ]
          },
          "metadata": {},
          "execution_count": 134
        }
      ]
    },
    {
      "cell_type": "code",
      "metadata": {
        "colab": {
          "base_uri": "https://localhost:8080/"
        },
        "id": "lUbwIIcAMhbg",
        "outputId": "a32b36f6-41db-434d-c285-89efbfd8d42f"
      },
      "source": [
        "panser.index"
      ],
      "execution_count": null,
      "outputs": [
        {
          "output_type": "execute_result",
          "data": {
            "text/plain": [
              "Index(['terry', 'micheal', 'orion', 'jason'], dtype='object')"
            ]
          },
          "metadata": {},
          "execution_count": 135
        }
      ]
    },
    {
      "cell_type": "code",
      "metadata": {
        "colab": {
          "base_uri": "https://localhost:8080/"
        },
        "id": "oYfiQd22Mhei",
        "outputId": "7720d5d2-caee-45c0-98e4-ed521bbcf885"
      },
      "source": [
        "panser.items()"
      ],
      "execution_count": null,
      "outputs": [
        {
          "output_type": "execute_result",
          "data": {
            "text/plain": [
              "<zip at 0x7f19eafe5730>"
            ]
          },
          "metadata": {},
          "execution_count": 136
        }
      ]
    },
    {
      "cell_type": "code",
      "metadata": {
        "colab": {
          "base_uri": "https://localhost:8080/"
        },
        "id": "FDcRzXs7MhiE",
        "outputId": "bf0bfdf5-87e2-4df6-9161-82eaf8bcda62"
      },
      "source": [
        "list(panser.items())"
      ],
      "execution_count": null,
      "outputs": [
        {
          "output_type": "execute_result",
          "data": {
            "text/plain": [
              "[('terry', 121), ('micheal', 200), ('orion', 150), ('jason', 99)]"
            ]
          },
          "metadata": {},
          "execution_count": 137
        }
      ]
    },
    {
      "cell_type": "code",
      "metadata": {
        "colab": {
          "base_uri": "https://localhost:8080/"
        },
        "id": "pYZVd4f0Mhly",
        "outputId": "d7e61d6c-a72f-4431-819c-f68fb77d4ad5"
      },
      "source": [
        "for key, value in panser.items():\n",
        "  print(\"key: \" ,key,\"\\t value:\" ,value )"
      ],
      "execution_count": null,
      "outputs": [
        {
          "output_type": "stream",
          "name": "stdout",
          "text": [
            "key:  terry \t value: 121\n",
            "key:  micheal \t value: 200\n",
            "key:  orion \t value: 150\n",
            "key:  jason \t value: 99\n"
          ]
        }
      ]
    },
    {
      "cell_type": "code",
      "metadata": {
        "colab": {
          "base_uri": "https://localhost:8080/"
        },
        "id": "TF8ib89rMhp4",
        "outputId": "19f516ad-8bae-4834-8150-311512fbb6ee"
      },
      "source": [
        "\"jason\" in panser"
      ],
      "execution_count": null,
      "outputs": [
        {
          "output_type": "execute_result",
          "data": {
            "text/plain": [
              "True"
            ]
          },
          "metadata": {},
          "execution_count": 140
        }
      ]
    },
    {
      "cell_type": "code",
      "metadata": {
        "colab": {
          "base_uri": "https://localhost:8080/"
        },
        "id": "MWZQONJ2Mhtt",
        "outputId": "45765397-052a-4843-b4ef-812c23c92499"
      },
      "source": [
        "\"adam\" in panser"
      ],
      "execution_count": null,
      "outputs": [
        {
          "output_type": "execute_result",
          "data": {
            "text/plain": [
              "False"
            ]
          },
          "metadata": {},
          "execution_count": 141
        }
      ]
    },
    {
      "cell_type": "code",
      "metadata": {
        "colab": {
          "base_uri": "https://localhost:8080/"
        },
        "id": "Y2oypSYeMhxZ",
        "outputId": "b910db23-f6ab-46b5-cc3d-83efa5c98571"
      },
      "source": [
        "121 in panser.values"
      ],
      "execution_count": null,
      "outputs": [
        {
          "output_type": "execute_result",
          "data": {
            "text/plain": [
              "True"
            ]
          },
          "metadata": {},
          "execution_count": 142
        }
      ]
    },
    {
      "cell_type": "code",
      "metadata": {
        "colab": {
          "base_uri": "https://localhost:8080/"
        },
        "id": "wz5mTyciMh0l",
        "outputId": "9107ab42-9685-414f-fe20-361e7a164026"
      },
      "source": [
        "panser.jason = 190\n",
        "panser"
      ],
      "execution_count": null,
      "outputs": [
        {
          "output_type": "execute_result",
          "data": {
            "text/plain": [
              "terry      121\n",
              "micheal    200\n",
              "orion      150\n",
              "jason      190\n",
              "dtype: int64"
            ]
          },
          "metadata": {},
          "execution_count": 143
        }
      ]
    },
    {
      "cell_type": "code",
      "metadata": {
        "colab": {
          "base_uri": "https://localhost:8080/"
        },
        "id": "8cqg3CumMh39",
        "outputId": "145afd00-00b6-488b-95b6-1dbd4ae1d0d4"
      },
      "source": [
        "panser>= 180"
      ],
      "execution_count": null,
      "outputs": [
        {
          "output_type": "execute_result",
          "data": {
            "text/plain": [
              "terry      False\n",
              "micheal     True\n",
              "orion      False\n",
              "jason       True\n",
              "dtype: bool"
            ]
          },
          "metadata": {},
          "execution_count": 144
        }
      ]
    },
    {
      "cell_type": "code",
      "metadata": {
        "colab": {
          "base_uri": "https://localhost:8080/"
        },
        "id": "swLniT-lMh7o",
        "outputId": "aaee3f3e-6c3e-41fa-da80-1f3a89c5dbc2"
      },
      "source": [
        "panser[panser >=180]"
      ],
      "execution_count": null,
      "outputs": [
        {
          "output_type": "execute_result",
          "data": {
            "text/plain": [
              "micheal    200\n",
              "jason      190\n",
              "dtype: int64"
            ]
          },
          "metadata": {},
          "execution_count": 145
        }
      ]
    },
    {
      "cell_type": "code",
      "metadata": {
        "colab": {
          "base_uri": "https://localhost:8080/"
        },
        "id": "eboYwe7JMh_i",
        "outputId": "a0d36543-0f1b-41cc-f0bc-64a8fd5ad2a6"
      },
      "source": [
        "panser[panser>= 180] =155\n",
        "panser"
      ],
      "execution_count": null,
      "outputs": [
        {
          "output_type": "execute_result",
          "data": {
            "text/plain": [
              "terry      121\n",
              "micheal    155\n",
              "orion      150\n",
              "jason      155\n",
              "dtype: int64"
            ]
          },
          "metadata": {},
          "execution_count": 148
        }
      ]
    },
    {
      "cell_type": "code",
      "metadata": {
        "id": "nEf0-mTBMiDA"
      },
      "source": [
        ""
      ],
      "execution_count": null,
      "outputs": []
    },
    {
      "cell_type": "code",
      "metadata": {
        "id": "s8ZOmHONMiH2"
      },
      "source": [
        ""
      ],
      "execution_count": null,
      "outputs": []
    },
    {
      "cell_type": "code",
      "metadata": {
        "id": "iFxGgqYJMiMk"
      },
      "source": [
        ""
      ],
      "execution_count": null,
      "outputs": []
    },
    {
      "cell_type": "code",
      "metadata": {
        "id": "RHz4SbY0MiRP"
      },
      "source": [
        ""
      ],
      "execution_count": null,
      "outputs": []
    },
    {
      "cell_type": "code",
      "metadata": {
        "id": "-mNP9effMiWP"
      },
      "source": [
        ""
      ],
      "execution_count": null,
      "outputs": []
    },
    {
      "cell_type": "code",
      "metadata": {
        "id": "oO7cpBjkX5do"
      },
      "source": [
        ""
      ],
      "execution_count": null,
      "outputs": []
    },
    {
      "cell_type": "code",
      "metadata": {
        "id": "ijUld5ZFX5gF"
      },
      "source": [
        ""
      ],
      "execution_count": null,
      "outputs": []
    },
    {
      "cell_type": "code",
      "metadata": {
        "id": "r8OfdJdYX5im"
      },
      "source": [
        ""
      ],
      "execution_count": null,
      "outputs": []
    },
    {
      "cell_type": "code",
      "metadata": {
        "id": "jkwO3WrsX5k1"
      },
      "source": [
        ""
      ],
      "execution_count": null,
      "outputs": []
    },
    {
      "cell_type": "code",
      "metadata": {
        "id": "1bvBYcQ6X5m8"
      },
      "source": [
        ""
      ],
      "execution_count": null,
      "outputs": []
    },
    {
      "cell_type": "code",
      "metadata": {
        "id": "MXV5mQ4MX5ph"
      },
      "source": [
        ""
      ],
      "execution_count": null,
      "outputs": []
    },
    {
      "cell_type": "code",
      "metadata": {
        "id": "xQQAiai3X5r9"
      },
      "source": [
        ""
      ],
      "execution_count": null,
      "outputs": []
    },
    {
      "cell_type": "code",
      "metadata": {
        "id": "okIU3ehlX5t-"
      },
      "source": [
        ""
      ],
      "execution_count": null,
      "outputs": []
    }
  ]
}